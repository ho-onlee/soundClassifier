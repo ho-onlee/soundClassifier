{
 "cells": [
  {
   "cell_type": "code",
   "execution_count": 7,
   "id": "9dce8715-4927-4ddf-908c-159c1bf219ac",
   "metadata": {},
   "outputs": [
    {
     "name": "stderr",
     "output_type": "stream",
     "text": [
      "WARNING:absl:Compiled the loaded model, but the compiled metrics have yet to be built. `model.compile_metrics` will be empty until you train or evaluate the model.\n"
     ]
    },
    {
     "name": "stdout",
     "output_type": "stream",
     "text": [
      "#### 1. Library Loaded ####\n",
      "trained_model3.h5\n",
      "I del\n",
      "################################################################################\n",
      "press Return to quit\n",
      "################################################################################\n",
      "[Fri, 19 Jul 2024 10:41:36:436457] Prediction: Baxter\n",
      "200\n",
      "[Fri, 19 Jul 2024 10:41:37:976033] Prediction: Baxter\n",
      "200\n",
      "[Fri, 19 Jul 2024 10:41:39:520485] Prediction: Baxter\n",
      "200\n"
     ]
    },
    {
     "name": "stdin",
     "output_type": "stream",
     "text": [
      " \n"
     ]
    },
    {
     "name": "stdout",
     "output_type": "stream",
     "text": [
      "[Fri, 19 Jul 2024 10:41:41:083511] Prediction: Baxter\n",
      "200\n",
      "[Fri, 19 Jul 2024 10:41:42:637933] Prediction: Baxter\n",
      "200\n"
     ]
    }
   ],
   "source": [
    "#!/venv/bin python\n",
    "import warnings\n",
    "warnings.filterwarnings('ignore')\n",
    "import HOS_client\n",
    "import time, pickle, datetime\n",
    "import sounddevice as sd\n",
    "import numpy as np\n",
    "import toml, os\n",
    "import keras\n",
    "import tensorflow as tf\n",
    "import librosa\n",
    "print(\"Fully loaded\")\n",
    "print([f for f in os.listdir(os.path.dirname(__file__)) if '.h5' in f and '.weights.h5' not in f])\n",
    "print([f for f in os.listdir(os.path.dirname(__file__)) if '.weights.h5' in f])\n",
    "\n",
    "class analyzer:\n",
    "    def __init__(self, model_name:str, label_name:str='label_list.pkl'):\n",
    "        self.base_dir = os.path.dirname(__file__)\n",
    "        self.model = self.__load_model()\n",
    "        self.map = self.__load_map(os.path.join(self.base_dir, label_name))\n",
    "        print(\"Analyser initialized\")\n",
    "        \n",
    "    def __load_model(self):\n",
    "        model = tf.keras.models.load_model(os.path.join(self.base_dir, [f for f in os.listdir(self.base_dir) if '.h5' in f and '.weights.h5' not in f][0]))\n",
    "        model.load_weights(os.path.join(self.base_dir, [f for f in os.listdir(self.base_dir) if '.weights.h5' in f][0]))\n",
    "        return model\n",
    "\n",
    "    def __load_map(self, fname:str):\n",
    "        with open(os.path.join(self.base_dir, fname), 'rb') as f:\n",
    "            ret = pickle.loads(f.read())\n",
    "        return ret\n",
    "        \n",
    "    def predict(self, audiowave:np.array, sr:int=48000):\n",
    "        prediction = np.zeros((1, len(self.map)))\n",
    "        c = 0\n",
    "        for i in range(int(np.floor(len(audiowave)/(0.45*sr)))+1):\n",
    "            c+=1\n",
    "            start = int(i*(0.45*sr))\n",
    "            end = int(start+(0.92*sr))\n",
    "            audio_94 = audiowave[start:end]\n",
    "            # Extract MFCC features\n",
    "            mfccs = librosa.feature.mfcc(y=audio_94, sr=sr, n_mfcc=40)\n",
    "            mfcc_scaled = np.mean(mfccs.T, axis=2)\n",
    "            input_data = np.reshape(mfcc_scaled, (1, 40))\n",
    "            prediction += self.model(input_data)\n",
    "        return prediction.numpy()/c\n",
    "\n",
    "\n",
    "def callback(indata, outdata, frames, time, status):\n",
    "    raw_pred = anal.predict(indata)\n",
    "    prediction = str(anal.map[np.argmax(raw_pred)])\n",
    "    now = datetime.datetime.now()\n",
    "    t = str(now.strftime('%a, %d %b %Y %H:%M:%S:%f'))\n",
    "    print(f\"[{t}] Prediction: {prediction}\")\n",
    "    with open(os.path.join(os.listdir(self.base_dir), config['Output']['output_csv_fname']+'.csv'),'a+', newline='') as f:\n",
    "        f.write(f\"{now}, {prediction}, {raw_pred}\".replace('\\n', '')+\"\\n\")\n",
    "    if config['HOS_server']['HOS_available']:\n",
    "        ret = node.postMessage([str(t), str(raw_pred), str(prediction)])\n",
    "        print(ret)\n",
    "def main():\n",
    "    try:\n",
    "        with sd.Stream(device=(1, 0),\n",
    "                    samplerate=48000, blocksize=int(48000*0.5),\n",
    "                    channels=1, callback=callback) as f:\n",
    "            print('#' * 80)\n",
    "            print('press Return to quit')\n",
    "            print('#' * 80)\n",
    "            input()\n",
    "            \n",
    "    except Exception as e:\n",
    "        print(e)\n",
    "\n",
    "\n",
    "if __name__ == '__main__':\n",
    "    try:        \n",
    "        config = toml.load(os.path.join(os. path.dirname(__file__), 'config.toml'))\n",
    "        anal = analyzer(config['Weights']['model_name'], \n",
    "                        label_name=config['Weights']['label_name'])\n",
    "        print(\"pre hos\")\n",
    "        if config['HOS_server']['HOS_available']:\n",
    "            node = HOS_client.node(client=HOS_client.client(config['General']['device_name'], \n",
    "                                                client_privilege=config['General']['client_privilege']),\n",
    "                                   node_name=config['General']['node_name'], \n",
    "                                   keys=['recorded_time', 'prediction_raw', 'prediction_max'],\n",
    "                                   host=config['HOS_server']['server_url'],\n",
    "                                   port=config['HOS_server']['port']\n",
    "                                  )\n",
    "        print(\"pre main\")\n",
    "        main()\n",
    "    except Exception as e:\n",
    "        print(e)\n",
    "        exit()\n"
   ]
  },
  {
   "cell_type": "code",
   "execution_count": 13,
   "id": "2b9c12fe-b39e-4e50-967b-6bf9f2acab47",
   "metadata": {},
   "outputs": [
    {
     "data": {
      "text/plain": [
       "'safsfdsd3j'"
      ]
     },
     "execution_count": 13,
     "metadata": {},
     "output_type": "execute_result"
    }
   ],
   "source": [
    "cat = 'safsfd\\nsd3j'\n",
    "cat.replace('\\n','')"
   ]
  }
 ],
 "metadata": {
  "kernelspec": {
   "display_name": "Python 3 (ipykernel)",
   "language": "python",
   "name": "python3"
  },
  "language_info": {
   "codemirror_mode": {
    "name": "ipython",
    "version": 3
   },
   "file_extension": ".py",
   "mimetype": "text/x-python",
   "name": "python",
   "nbconvert_exporter": "python",
   "pygments_lexer": "ipython3",
   "version": "3.10.12"
  }
 },
 "nbformat": 4,
 "nbformat_minor": 5
}
