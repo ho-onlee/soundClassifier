{
 "cells": [
  {
   "cell_type": "code",
   "execution_count": 14,
   "id": "9dce8715-4927-4ddf-908c-159c1bf219ac",
   "metadata": {},
   "outputs": [
    {
     "name": "stdout",
     "output_type": "stream",
     "text": [
      "Fully loaded\n"
     ]
    },
    {
     "ename": "NameError",
     "evalue": "name '__file__' is not defined",
     "output_type": "error",
     "traceback": [
      "\u001b[0;31m---------------------------------------------------------------------------\u001b[0m",
      "\u001b[0;31mNameError\u001b[0m                                 Traceback (most recent call last)",
      "Cell \u001b[0;32mIn[14], line 13\u001b[0m\n\u001b[1;32m     11\u001b[0m \u001b[38;5;28;01mimport\u001b[39;00m \u001b[38;5;21;01mlibrosa\u001b[39;00m\n\u001b[1;32m     12\u001b[0m \u001b[38;5;28mprint\u001b[39m(\u001b[38;5;124m\"\u001b[39m\u001b[38;5;124mFully loaded\u001b[39m\u001b[38;5;124m\"\u001b[39m)\n\u001b[0;32m---> 13\u001b[0m \u001b[38;5;28mprint\u001b[39m([f \u001b[38;5;28;01mfor\u001b[39;00m f \u001b[38;5;129;01min\u001b[39;00m os\u001b[38;5;241m.\u001b[39mlistdir(os\u001b[38;5;241m.\u001b[39mpath\u001b[38;5;241m.\u001b[39mdirname(\u001b[38;5;18;43m__file__\u001b[39;49m)) \u001b[38;5;28;01mif\u001b[39;00m \u001b[38;5;124m'\u001b[39m\u001b[38;5;124m.h5\u001b[39m\u001b[38;5;124m'\u001b[39m \u001b[38;5;129;01min\u001b[39;00m f \u001b[38;5;129;01mand\u001b[39;00m \u001b[38;5;124m'\u001b[39m\u001b[38;5;124m.weights.h5\u001b[39m\u001b[38;5;124m'\u001b[39m \u001b[38;5;129;01mnot\u001b[39;00m \u001b[38;5;129;01min\u001b[39;00m f])\n\u001b[1;32m     14\u001b[0m \u001b[38;5;28mprint\u001b[39m([f \u001b[38;5;28;01mfor\u001b[39;00m f \u001b[38;5;129;01min\u001b[39;00m os\u001b[38;5;241m.\u001b[39mlistdir(os\u001b[38;5;241m.\u001b[39mpath\u001b[38;5;241m.\u001b[39mdirname(\u001b[38;5;18m__file__\u001b[39m)) \u001b[38;5;28;01mif\u001b[39;00m \u001b[38;5;124m'\u001b[39m\u001b[38;5;124m.weights.h5\u001b[39m\u001b[38;5;124m'\u001b[39m \u001b[38;5;129;01min\u001b[39;00m f])\n\u001b[1;32m     16\u001b[0m \u001b[38;5;28;01mclass\u001b[39;00m \u001b[38;5;21;01manalyzer\u001b[39;00m:\n",
      "\u001b[0;31mNameError\u001b[0m: name '__file__' is not defined"
     ]
    }
   ],
   "source": [
    "#!/venv/bin python\n",
    "import warnings\n",
    "warnings.filterwarnings('ignore')\n",
    "import HOS_client\n",
    "import time, pickle, datetime\n",
    "import sounddevice as sd\n",
    "import numpy as np\n",
    "import toml, os\n",
    "import keras\n",
    "import tensorflow as tf\n",
    "import librosa\n",
    "\n",
    "class analyzer:\n",
    "    def __init__(self, model_name:str, label_name:str='label_list.pkl'):\n",
    "        self.base_dir = os.path.dirname(__file__)\n",
    "        self.model = self.__load_model()\n",
    "        self.map = self.__load_map(os.path.join(self.base_dir, label_name))\n",
    "        \n",
    "    def __load_model(self):\n",
    "        model = tf.keras.models.load_model(os.path.join(self.base_dir, [f for f in os.listdir(self.base_dir) if '.h5' in f and '.weights.h5' not in f][0]))\n",
    "        model.load_weights(os.path.join(self.base_dir, [f for f in os.listdir(self.base_dir) if '.weights.h5' in f][0]))\n",
    "        return model\n",
    "\n",
    "    def __load_map(self, fname:str):\n",
    "        with open(os.path.join(self.base_dir, fname), 'rb') as f:\n",
    "            ret = pickle.loads(f.read())\n",
    "        return ret\n",
    "        \n",
    "    def predict(self, audiowave:np.array, sr:int=48000):\n",
    "        prediction = np.zeros((1, len(self.map)))\n",
    "        c = 0\n",
    "        for i in range(int(np.floor(len(audiowave)/(0.45*sr)))+1):\n",
    "            c+=1\n",
    "            start = int(i*(0.45*sr))\n",
    "            end = int(start+(0.92*sr))\n",
    "            audio_94 = audiowave[start:end]\n",
    "            # Extract MFCC features\n",
    "            mfccs = librosa.feature.mfcc(y=audio_94, sr=sr, n_mfcc=40)\n",
    "            mfcc_scaled = np.mean(mfccs.T, axis=2)\n",
    "            input_data = np.reshape(mfcc_scaled, (1, 40))\n",
    "            prediction += self.model(input_data)\n",
    "        return prediction.numpy()/c\n",
    "\n",
    "\n",
    "def callback(indata, outdata, frames, time, status):\n",
    "    raw_pred = anal.predict(indata)\n",
    "    prediction = str(anal.map[np.argmax(raw_pred)])\n",
    "    now = datetime.datetime.now()\n",
    "    t = str(now.strftime('%a, %d %b %Y %H:%M:%S:%f'))\n",
    "    ref = 1 \n",
    "    \n",
    "    S = np.abs(librosa.stft(y=indata))\n",
    "    dbp = librosa.power_to_db(S**2, ref=ref).mean()\n",
    "\n",
    "    rms = librosa.feature.rms(y=indata)\n",
    "    dbs = librosa.amplitude_to_db(rms, ref=ref)\n",
    "    A_weighting = librosa.A_weighting(dbs)\n",
    "    dBA = librosa.amplitude_to_db(rms * A_weighting, ref=ref)[0][0][0]\n",
    "    \n",
    "    print(f\"[{t}] Prediction: {prediction}\")\n",
    "    if config['Output']['output_csv_fname']+'.csv' not in os.listdir(anal.base_dir):\n",
    "        with open(os.path.join(anal.base_dir, config['Output']['output_csv_fname']+'.csv'),'w', newline='') as f:\n",
    "            f.write(\"Time, Prediction, raw_pred, dBFS[power], dBs, dBA\".replace('\\n', '')+\"\\n\")\n",
    "    with open(os.path.join(anal.base_dir, config['Output']['output_csv_fname']+'.csv'),'a+', newline='') as f:\n",
    "        f.write(f\"{now}, {prediction}, {raw_pred}, {dbp}, {dbs.mean()}, {dBA}\".replace('\\n', '')+\"\\n\")\n",
    "    if config['HOS_server']['HOS_available']:\n",
    "        ret = node.postMessage([str(t), str(raw_pred), str(prediction), str(dbp), str(dbs.mean()), str(dBA)])\n",
    "        print(ret)\n",
    "def main():\n",
    "    try:\n",
    "        with sd.Stream(device=(1, 0),\n",
    "                    samplerate=48000, blocksize=int(48000*0.5),\n",
    "                    channels=1, callback=callback) as f:\n",
    "            print('#' * 80)\n",
    "            print('press Return to quit')\n",
    "            print('#' * 80)\n",
    "            input()\n",
    "            \n",
    "    except Exception as e:\n",
    "        print(e)\n",
    "\n",
    "\n",
    "if __name__ == '__main__':\n",
    "    try:        \n",
    "        config = toml.load(os.path.join(os. path.dirname(__file__), 'config.toml'))\n",
    "        anal = analyzer(config['Weights']['model_name'], \n",
    "                        label_name=config['Weights']['label_name'])\n",
    "        if config['HOS_server']['HOS_available']:\n",
    "            node = HOS_client.node(client=HOS_client.client(config['General']['device_name'], \n",
    "                                                client_privilege=config['General']['client_privilege']),\n",
    "                                   node_name=config['General']['node_name'], \n",
    "                                   keys=['recorded_time', 'prediction_raw', 'prediction_max', 'dBFS_Power', 'dBs_Amp', 'dBA_Amp'],\n",
    "                                   host=config['HOS_server']['server_url'],\n",
    "                                   port=config['HOS_server']['port']\n",
    "                                  )\n",
    "        main()\n",
    "    except Exception as e:\n",
    "        print(e)\n",
    "        exit()\n"
   ]
  },
  {
   "cell_type": "code",
   "execution_count": 13,
   "id": "2b9c12fe-b39e-4e50-967b-6bf9f2acab47",
   "metadata": {},
   "outputs": [
    {
     "data": {
      "text/plain": [
       "'safsfdsd3j'"
      ]
     },
     "execution_count": 13,
     "metadata": {},
     "output_type": "execute_result"
    }
   ],
   "source": [
    "cat = 'safsfd\\nsd3j'\n",
    "cat.replace('\\n','')"
   ]
  }
 ],
 "metadata": {
  "kernelspec": {
   "display_name": "Python 3 (ipykernel)",
   "language": "python",
   "name": "python3"
  },
  "language_info": {
   "codemirror_mode": {
    "name": "ipython",
    "version": 3
   },
   "file_extension": ".py",
   "mimetype": "text/x-python",
   "name": "python",
   "nbconvert_exporter": "python",
   "pygments_lexer": "ipython3",
   "version": "3.10.12"
  }
 },
 "nbformat": 4,
 "nbformat_minor": 5
}
