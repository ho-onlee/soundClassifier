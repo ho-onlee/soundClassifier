{
 "cells": [
  {
   "cell_type": "code",
   "execution_count": 1,
   "metadata": {},
   "outputs": [],
   "source": [
    "import trainer, os\n",
    "import numpy as np \n",
    "import matplotlib.pyplot as plt"
   ]
  },
  {
   "cell_type": "code",
   "execution_count": 2,
   "metadata": {},
   "outputs": [
    {
     "data": {
      "text/plain": [
       "'c:\\\\Users\\\\Hoon\\\\Nextcloud3\\\\Projects\\\\soundClassifier\\\\soundClassifier'"
      ]
     },
     "execution_count": 2,
     "metadata": {},
     "output_type": "execute_result"
    }
   ],
   "source": [
    "os.getcwd()"
   ]
  },
  {
   "cell_type": "code",
   "execution_count": 3,
   "metadata": {},
   "outputs": [
    {
     "name": "stderr",
     "output_type": "stream",
     "text": [
      "  0%|          | 0/107 [00:00<?, ?it/s]"
     ]
    },
    {
     "name": "stdout",
     "output_type": "stream",
     "text": [
      "Retrieving File: /home/worker/.local/share/label-studio/media/upload/1/fbf62549-audio.wav -> c:\\Users\\Hoon\\Nextcloud3\\Projects\\soundClassifier\\soundClassifier\\dataset\n"
     ]
    },
    {
     "name": "stderr",
     "output_type": "stream",
     "text": [
      "  1%|          | 1/107 [00:07<13:28,  7.63s/it]"
     ]
    },
    {
     "name": "stdout",
     "output_type": "stream",
     "text": [
      "Retrieving File: /home/worker/.local/share/label-studio/media/upload/1/e01cb396-Mcu_done_infusion-error.m4a -> c:\\Users\\Hoon\\Nextcloud3\\Projects\\soundClassifier\\soundClassifier\\dataset\n"
     ]
    },
    {
     "name": "stderr",
     "output_type": "stream",
     "text": [
      "c:\\Users\\Hoon\\Nextcloud3\\Projects\\soundClassifier\\soundClassifier\\trainer.py:68: UserWarning: PySoundFile failed. Trying audioread instead.\n",
      "  audio_waveform, sample_rate = librosa.load(path, sr=32000)\n",
      "c:\\Users\\Hoon\\Nextcloud3\\Projects\\AudioTrain\\.venv\\lib\\site-packages\\librosa\\core\\audio.py:184: FutureWarning: librosa.core.audio.__audioread_load\n",
      "\tDeprecated as of librosa version 0.10.0.\n",
      "\tIt will be removed in librosa version 1.0.\n",
      "  y, sr_native = __audioread_load(path, offset, duration, dtype)\n",
      "  2%|▏         | 2/107 [00:08<05:55,  3.38s/it]"
     ]
    },
    {
     "name": "stdout",
     "output_type": "stream",
     "text": [
      "Retrieving File: /home/worker/.local/share/label-studio/media/upload/1/cacf4231-Restart_channel.m4a -> c:\\Users\\Hoon\\Nextcloud3\\Projects\\soundClassifier\\soundClassifier\\dataset\n"
     ]
    },
    {
     "name": "stderr",
     "output_type": "stream",
     "text": [
      "  3%|▎         | 3/107 [00:08<03:31,  2.03s/it]"
     ]
    },
    {
     "name": "stdout",
     "output_type": "stream",
     "text": [
      "Retrieving File: /home/worker/.local/share/label-studio/media/upload/1/df63a5c1-All_alarms.m4a -> c:\\Users\\Hoon\\Nextcloud3\\Projects\\soundClassifier\\soundClassifier\\dataset\n"
     ]
    },
    {
     "name": "stderr",
     "output_type": "stream",
     "text": [
      "  4%|▎         | 4/107 [00:08<02:22,  1.38s/it]"
     ]
    },
    {
     "name": "stdout",
     "output_type": "stream",
     "text": [
      "Retrieving File: /home/worker/.local/share/label-studio/media/upload/1/1a2f5d5f-Bexter__alaris_on.m4a -> c:\\Users\\Hoon\\Nextcloud3\\Projects\\soundClassifier\\soundClassifier\\dataset\n"
     ]
    },
    {
     "name": "stderr",
     "output_type": "stream",
     "text": [
      "  5%|▍         | 5/107 [00:09<01:43,  1.01s/it]"
     ]
    },
    {
     "name": "stdout",
     "output_type": "stream",
     "text": [
      "Retrieving File: /home/worker/.local/share/label-studio/media/upload/1/8fef3952-Alaris_check_iv.m4a -> c:\\Users\\Hoon\\Nextcloud3\\Projects\\soundClassifier\\soundClassifier\\dataset\n"
     ]
    },
    {
     "name": "stderr",
     "output_type": "stream",
     "text": [
      "  6%|▌         | 6/107 [00:09<01:22,  1.23it/s]"
     ]
    },
    {
     "name": "stdout",
     "output_type": "stream",
     "text": [
      "Retrieving File: /home/worker/.local/share/label-studio/media/upload/1/5647ca5c-Alaris_complete.m4a -> c:\\Users\\Hoon\\Nextcloud3\\Projects\\soundClassifier\\soundClassifier\\dataset\n"
     ]
    },
    {
     "name": "stderr",
     "output_type": "stream",
     "text": [
      "  7%|▋         | 7/107 [00:10<01:07,  1.48it/s]"
     ]
    },
    {
     "name": "stdout",
     "output_type": "stream",
     "text": [
      "Retrieving File: /home/worker/.local/share/label-studio/media/upload/1/1a7a93f5-Mcu_keystroke.m4a -> c:\\Users\\Hoon\\Nextcloud3\\Projects\\soundClassifier\\soundClassifier\\dataset\n"
     ]
    },
    {
     "name": "stderr",
     "output_type": "stream",
     "text": [
      "  7%|▋         | 8/107 [00:10<00:56,  1.75it/s]"
     ]
    },
    {
     "name": "stdout",
     "output_type": "stream",
     "text": [
      "Retrieving File: /home/worker/.local/share/label-studio/media/upload/1/a7f71202-Mcu_action_required.m4a -> c:\\Users\\Hoon\\Nextcloud3\\Projects\\soundClassifier\\soundClassifier\\dataset\n"
     ]
    },
    {
     "name": "stderr",
     "output_type": "stream",
     "text": [
      "  8%|▊         | 9/107 [00:10<00:48,  2.03it/s]"
     ]
    },
    {
     "name": "stdout",
     "output_type": "stream",
     "text": [
      "Retrieving File: /home/worker/.local/share/label-studio/media/upload/1/964f6ba7-Baxter_Ba_Battery.m4a -> c:\\Users\\Hoon\\Nextcloud3\\Projects\\soundClassifier\\soundClassifier\\dataset\n"
     ]
    },
    {
     "name": "stderr",
     "output_type": "stream",
     "text": [
      "  9%|▉         | 10/107 [00:11<00:44,  2.18it/s]"
     ]
    },
    {
     "name": "stdout",
     "output_type": "stream",
     "text": [
      "Retrieving File: /home/worker/.local/share/label-studio/media/upload/1/f422ef20-Alaris_air_in_line.m4a -> c:\\Users\\Hoon\\Nextcloud3\\Projects\\soundClassifier\\soundClassifier\\dataset\n"
     ]
    },
    {
     "name": "stderr",
     "output_type": "stream",
     "text": [
      " 10%|█         | 11/107 [00:11<00:41,  2.29it/s]"
     ]
    },
    {
     "name": "stdout",
     "output_type": "stream",
     "text": [
      "Retrieving File: /home/worker/.local/share/label-studio/media/upload/1/f429ccd9-Baxter_action_inactive.m4a -> c:\\Users\\Hoon\\Nextcloud3\\Projects\\soundClassifier\\soundClassifier\\dataset\n"
     ]
    },
    {
     "name": "stderr",
     "output_type": "stream",
     "text": [
      " 11%|█         | 12/107 [00:11<00:40,  2.32it/s]"
     ]
    },
    {
     "name": "stdout",
     "output_type": "stream",
     "text": [
      "Retrieving File: /home/worker/.local/share/label-studio/media/upload/1/2f3b3b72-Baxters.m4a -> c:\\Users\\Hoon\\Nextcloud3\\Projects\\soundClassifier\\soundClassifier\\dataset\n"
     ]
    },
    {
     "name": "stderr",
     "output_type": "stream",
     "text": [
      " 12%|█▏        | 13/107 [00:12<00:50,  1.85it/s]"
     ]
    },
    {
     "name": "stdout",
     "output_type": "stream",
     "text": [
      "Retrieving File: /home/worker/.local/share/label-studio/media/upload/1/0661c7ab-화요일_오전_11-34.m4a -> c:\\Users\\Hoon\\Nextcloud3\\Projects\\soundClassifier\\soundClassifier\\dataset\n"
     ]
    },
    {
     "name": "stderr",
     "output_type": "stream",
     "text": [
      " 13%|█▎        | 14/107 [00:13<00:45,  2.04it/s]"
     ]
    },
    {
     "name": "stdout",
     "output_type": "stream",
     "text": [
      "Retrieving File: /home/worker/.local/share/label-studio/media/upload/1/c1f8646d-Room_call_skinner.m4a -> c:\\Users\\Hoon\\Nextcloud3\\Projects\\soundClassifier\\soundClassifier\\dataset\n"
     ]
    },
    {
     "name": "stderr",
     "output_type": "stream",
     "text": [
      " 14%|█▍        | 15/107 [00:13<00:42,  2.19it/s]"
     ]
    },
    {
     "name": "stdout",
     "output_type": "stream",
     "text": [
      "Retrieving File: /home/worker/.local/share/label-studio/media/upload/1/ce2bb030-화요일_오전_11-35.m4a -> c:\\Users\\Hoon\\Nextcloud3\\Projects\\soundClassifier\\soundClassifier\\dataset\n"
     ]
    },
    {
     "name": "stderr",
     "output_type": "stream",
     "text": [
      " 15%|█▍        | 16/107 [00:13<00:39,  2.32it/s]"
     ]
    },
    {
     "name": "stdout",
     "output_type": "stream",
     "text": [
      "Retrieving File: /home/worker/.local/share/label-studio/media/upload/1/adbb9265-Metal_bed_pan_being_taken_out-metal_clanging.m4a -> c:\\Users\\Hoon\\Nextcloud3\\Projects\\soundClassifier\\soundClassifier\\dataset\n"
     ]
    },
    {
     "name": "stderr",
     "output_type": "stream",
     "text": [
      " 16%|█▌        | 17/107 [00:14<00:37,  2.42it/s]"
     ]
    },
    {
     "name": "stdout",
     "output_type": "stream",
     "text": [
      "Retrieving File: /home/worker/.local/share/label-studio/media/upload/1/5218b0d3-Door_opening_and_Closing.m4a -> c:\\Users\\Hoon\\Nextcloud3\\Projects\\soundClassifier\\soundClassifier\\dataset\n"
     ]
    },
    {
     "name": "stderr",
     "output_type": "stream",
     "text": [
      " 17%|█▋        | 18/107 [00:14<00:36,  2.43it/s]"
     ]
    },
    {
     "name": "stdout",
     "output_type": "stream",
     "text": [
      "Retrieving File: /home/worker/.local/share/label-studio/media/upload/1/41450de1-Armbubag.m4a -> c:\\Users\\Hoon\\Nextcloud3\\Projects\\soundClassifier\\soundClassifier\\dataset\n"
     ]
    },
    {
     "name": "stderr",
     "output_type": "stream",
     "text": [
      " 18%|█▊        | 19/107 [00:15<00:37,  2.35it/s]"
     ]
    },
    {
     "name": "stdout",
     "output_type": "stream",
     "text": [
      "Retrieving File: /home/worker/.local/share/label-studio/media/upload/1/7f1073b7-Bed_adjustment_.m4a -> c:\\Users\\Hoon\\Nextcloud3\\Projects\\soundClassifier\\soundClassifier\\dataset\n"
     ]
    },
    {
     "name": "stderr",
     "output_type": "stream",
     "text": [
      " 19%|█▊        | 20/107 [00:15<00:36,  2.35it/s]"
     ]
    },
    {
     "name": "stdout",
     "output_type": "stream",
     "text": [
      "Retrieving File: /home/worker/.local/share/label-studio/media/upload/1/b078d05e-Chair_fight.m4a -> c:\\Users\\Hoon\\Nextcloud3\\Projects\\soundClassifier\\soundClassifier\\dataset\n"
     ]
    },
    {
     "name": "stderr",
     "output_type": "stream",
     "text": [
      " 20%|█▉        | 21/107 [00:16<00:41,  2.05it/s]"
     ]
    },
    {
     "name": "stdout",
     "output_type": "stream",
     "text": [
      "Retrieving File: /home/worker/.local/share/label-studio/media/upload/1/d3e8b50a-Curtain.m4a -> c:\\Users\\Hoon\\Nextcloud3\\Projects\\soundClassifier\\soundClassifier\\dataset\n"
     ]
    },
    {
     "name": "stderr",
     "output_type": "stream",
     "text": [
      " 21%|██        | 22/107 [00:16<00:40,  2.11it/s]"
     ]
    },
    {
     "name": "stdout",
     "output_type": "stream",
     "text": [
      "Retrieving File: /home/worker/.local/share/label-studio/media/upload/1/ab53cb69-Drawer.m4a -> c:\\Users\\Hoon\\Nextcloud3\\Projects\\soundClassifier\\soundClassifier\\dataset\n"
     ]
    },
    {
     "name": "stderr",
     "output_type": "stream",
     "text": [
      " 21%|██▏       | 23/107 [00:17<00:40,  2.10it/s]"
     ]
    },
    {
     "name": "stdout",
     "output_type": "stream",
     "text": [
      "Retrieving File: /home/worker/.local/share/label-studio/media/upload/1/9584abfa-Four_caster_wheeel_hamper.m4a -> c:\\Users\\Hoon\\Nextcloud3\\Projects\\soundClassifier\\soundClassifier\\dataset\n"
     ]
    },
    {
     "name": "stderr",
     "output_type": "stream",
     "text": [
      " 22%|██▏       | 24/107 [00:17<00:38,  2.18it/s]"
     ]
    },
    {
     "name": "stdout",
     "output_type": "stream",
     "text": [
      "Retrieving File: /home/worker/.local/share/label-studio/media/upload/1/64de7e7b-Hoyer_actuation.m4a -> c:\\Users\\Hoon\\Nextcloud3\\Projects\\soundClassifier\\soundClassifier\\dataset\n"
     ]
    },
    {
     "name": "stderr",
     "output_type": "stream",
     "text": [
      " 23%|██▎       | 25/107 [00:17<00:35,  2.29it/s]"
     ]
    },
    {
     "name": "stdout",
     "output_type": "stream",
     "text": [
      "Retrieving File: /home/worker/.local/share/label-studio/media/upload/1/9b12e9d9-Hoyer_rolling.m4a -> c:\\Users\\Hoon\\Nextcloud3\\Projects\\soundClassifier\\soundClassifier\\dataset\n"
     ]
    },
    {
     "name": "stderr",
     "output_type": "stream",
     "text": [
      " 24%|██▍       | 26/107 [00:18<00:35,  2.30it/s]"
     ]
    },
    {
     "name": "stdout",
     "output_type": "stream",
     "text": [
      "Retrieving File: /home/worker/.local/share/label-studio/media/upload/1/94d510af-Medical_air_flow.m4a -> c:\\Users\\Hoon\\Nextcloud3\\Projects\\soundClassifier\\soundClassifier\\dataset\n"
     ]
    },
    {
     "name": "stderr",
     "output_type": "stream",
     "text": [
      " 25%|██▌       | 27/107 [00:18<00:35,  2.25it/s]"
     ]
    },
    {
     "name": "stdout",
     "output_type": "stream",
     "text": [
      "Retrieving File: /home/worker/.local/share/label-studio/media/upload/1/105a603b-Metal_cabinet.m4a -> c:\\Users\\Hoon\\Nextcloud3\\Projects\\soundClassifier\\soundClassifier\\dataset\n"
     ]
    },
    {
     "name": "stderr",
     "output_type": "stream",
     "text": [
      " 26%|██▌       | 28/107 [00:19<00:34,  2.26it/s]"
     ]
    },
    {
     "name": "stdout",
     "output_type": "stream",
     "text": [
      "Retrieving File: /home/worker/.local/share/label-studio/media/upload/1/f599ee01-Metal_lid_on_glass.m4a -> c:\\Users\\Hoon\\Nextcloud3\\Projects\\soundClassifier\\soundClassifier\\dataset\n"
     ]
    },
    {
     "name": "stderr",
     "output_type": "stream",
     "text": [
      " 27%|██▋       | 29/107 [00:19<00:34,  2.28it/s]"
     ]
    },
    {
     "name": "stdout",
     "output_type": "stream",
     "text": [
      "Retrieving File: /home/worker/.local/share/label-studio/media/upload/1/65af6346-Onject_in_glass_bottle.m4a -> c:\\Users\\Hoon\\Nextcloud3\\Projects\\soundClassifier\\soundClassifier\\dataset\n"
     ]
    },
    {
     "name": "stderr",
     "output_type": "stream",
     "text": [
      " 28%|██▊       | 30/107 [00:19<00:32,  2.37it/s]"
     ]
    },
    {
     "name": "stdout",
     "output_type": "stream",
     "text": [
      "Retrieving File: /home/worker/.local/share/label-studio/media/upload/1/fee645ed-Pressure_cuff.m4a -> c:\\Users\\Hoon\\Nextcloud3\\Projects\\soundClassifier\\soundClassifier\\dataset\n"
     ]
    },
    {
     "name": "stderr",
     "output_type": "stream",
     "text": [
      " 29%|██▉       | 31/107 [00:20<00:31,  2.38it/s]"
     ]
    },
    {
     "name": "stdout",
     "output_type": "stream",
     "text": [
      "Retrieving File: /home/worker/.local/share/label-studio/media/upload/1/91d11ee4-Rolling_chair.m4a -> c:\\Users\\Hoon\\Nextcloud3\\Projects\\soundClassifier\\soundClassifier\\dataset\n"
     ]
    },
    {
     "name": "stderr",
     "output_type": "stream",
     "text": [
      " 30%|██▉       | 32/107 [00:21<00:36,  2.08it/s]"
     ]
    },
    {
     "name": "stdout",
     "output_type": "stream",
     "text": [
      "Retrieving File: /home/worker/.local/share/label-studio/media/upload/1/73d2b268-Rolling_spacelabs.m4a -> c:\\Users\\Hoon\\Nextcloud3\\Projects\\soundClassifier\\soundClassifier\\dataset\n"
     ]
    },
    {
     "name": "stderr",
     "output_type": "stream",
     "text": [
      " 31%|███       | 33/107 [00:21<00:37,  1.98it/s]"
     ]
    },
    {
     "name": "stdout",
     "output_type": "stream",
     "text": [
      "Retrieving File: /home/worker/.local/share/label-studio/media/upload/1/1474b14f-Sink_hand_washing.m4a -> c:\\Users\\Hoon\\Nextcloud3\\Projects\\soundClassifier\\soundClassifier\\dataset\n"
     ]
    },
    {
     "name": "stderr",
     "output_type": "stream",
     "text": [
      " 32%|███▏      | 34/107 [00:22<00:36,  2.00it/s]"
     ]
    },
    {
     "name": "stdout",
     "output_type": "stream",
     "text": [
      "Retrieving File: /home/worker/.local/share/label-studio/media/upload/1/4aa8430b-space_lab_keytone.m4a -> c:\\Users\\Hoon\\Nextcloud3\\Projects\\soundClassifier\\soundClassifier\\dataset\n"
     ]
    },
    {
     "name": "stderr",
     "output_type": "stream",
     "text": [
      " 33%|███▎      | 35/107 [00:23<00:48,  1.47it/s]"
     ]
    },
    {
     "name": "stdout",
     "output_type": "stream",
     "text": [
      "Retrieving File: /home/worker/.local/share/label-studio/media/upload/1/1be9fbd1-Stationary_rolling_cart.m4a -> c:\\Users\\Hoon\\Nextcloud3\\Projects\\soundClassifier\\soundClassifier\\dataset\n"
     ]
    },
    {
     "name": "stderr",
     "output_type": "stream",
     "text": [
      " 34%|███▎      | 36/107 [00:25<01:32,  1.30s/it]"
     ]
    },
    {
     "name": "stdout",
     "output_type": "stream",
     "text": [
      "Retrieving File: /home/worker/.local/share/label-studio/media/upload/1/ee5b66ef-Trash_bucket.m4a -> c:\\Users\\Hoon\\Nextcloud3\\Projects\\soundClassifier\\soundClassifier\\dataset\n"
     ]
    },
    {
     "name": "stderr",
     "output_type": "stream",
     "text": [
      " 35%|███▍      | 37/107 [00:27<01:34,  1.34s/it]"
     ]
    },
    {
     "name": "stdout",
     "output_type": "stream",
     "text": [
      "Retrieving File: /home/worker/.local/share/label-studio/media/upload/1/8694f1fd-Vaccuum_generator.m4a -> c:\\Users\\Hoon\\Nextcloud3\\Projects\\soundClassifier\\soundClassifier\\dataset\n"
     ]
    },
    {
     "name": "stderr",
     "output_type": "stream",
     "text": [
      " 36%|███▌      | 38/107 [00:28<01:35,  1.39s/it]"
     ]
    },
    {
     "name": "stdout",
     "output_type": "stream",
     "text": [
      "Retrieving File: /home/worker/.local/share/label-studio/media/upload/1/be4821f0-Velcro.m4a -> c:\\Users\\Hoon\\Nextcloud3\\Projects\\soundClassifier\\soundClassifier\\dataset\n"
     ]
    },
    {
     "name": "stderr",
     "output_type": "stream",
     "text": [
      " 36%|███▋      | 39/107 [00:31<02:00,  1.77s/it]"
     ]
    },
    {
     "name": "stdout",
     "output_type": "stream",
     "text": [
      "Retrieving File: /home/worker/.local/share/label-studio/media/upload/1/dbf41d46-금요일_오후_1-05.m4a -> c:\\Users\\Hoon\\Nextcloud3\\Projects\\soundClassifier\\soundClassifier\\dataset\n"
     ]
    },
    {
     "name": "stderr",
     "output_type": "stream",
     "text": [
      " 37%|███▋      | 40/107 [00:31<01:32,  1.38s/it]"
     ]
    },
    {
     "name": "stdout",
     "output_type": "stream",
     "text": [
      "Retrieving File: /home/worker/.local/share/label-studio/media/upload/1/ab6d58b5-금요일_오후_1-07.m4a -> c:\\Users\\Hoon\\Nextcloud3\\Projects\\soundClassifier\\soundClassifier\\dataset\n"
     ]
    },
    {
     "name": "stderr",
     "output_type": "stream",
     "text": [
      " 38%|███▊      | 41/107 [00:32<01:13,  1.11s/it]"
     ]
    },
    {
     "name": "stdout",
     "output_type": "stream",
     "text": [
      "Retrieving File: /home/worker/.local/share/label-studio/media/upload/1/43a48208-금요일_오후_1-08.m4a -> c:\\Users\\Hoon\\Nextcloud3\\Projects\\soundClassifier\\soundClassifier\\dataset\n"
     ]
    },
    {
     "name": "stderr",
     "output_type": "stream",
     "text": [
      " 39%|███▉      | 42/107 [00:33<01:02,  1.04it/s]"
     ]
    },
    {
     "name": "stdout",
     "output_type": "stream",
     "text": [
      "Retrieving File: /home/worker/.local/share/label-studio/media/upload/1/ac584477-금요일_오후_1-10.m4a -> c:\\Users\\Hoon\\Nextcloud3\\Projects\\soundClassifier\\soundClassifier\\dataset\n"
     ]
    },
    {
     "name": "stderr",
     "output_type": "stream",
     "text": [
      " 40%|████      | 43/107 [00:33<00:53,  1.20it/s]"
     ]
    },
    {
     "name": "stdout",
     "output_type": "stream",
     "text": [
      "Retrieving File: /home/worker/.local/share/label-studio/media/upload/1/ff9811f6-금요일_오후_1-11.m4a -> c:\\Users\\Hoon\\Nextcloud3\\Projects\\soundClassifier\\soundClassifier\\dataset\n"
     ]
    },
    {
     "name": "stderr",
     "output_type": "stream",
     "text": [
      " 41%|████      | 44/107 [00:34<00:46,  1.37it/s]"
     ]
    },
    {
     "name": "stdout",
     "output_type": "stream",
     "text": [
      "Retrieving File: /home/worker/.local/share/label-studio/media/upload/1/f98e01a1-금요일_오후_1-19.m4a -> c:\\Users\\Hoon\\Nextcloud3\\Projects\\soundClassifier\\soundClassifier\\dataset\n"
     ]
    },
    {
     "name": "stderr",
     "output_type": "stream",
     "text": [
      " 42%|████▏     | 45/107 [00:34<00:40,  1.54it/s]"
     ]
    },
    {
     "name": "stdout",
     "output_type": "stream",
     "text": [
      "Retrieving File: /home/worker/.local/share/label-studio/media/upload/1/d95e05c6-금요일_오후_1-26.m4a -> c:\\Users\\Hoon\\Nextcloud3\\Projects\\soundClassifier\\soundClassifier\\dataset\n"
     ]
    },
    {
     "name": "stderr",
     "output_type": "stream",
     "text": [
      " 43%|████▎     | 46/107 [00:35<00:36,  1.67it/s]"
     ]
    },
    {
     "name": "stdout",
     "output_type": "stream",
     "text": [
      "Retrieving File: /home/worker/.local/share/label-studio/media/upload/1/d8d47ddc-금요일_오후_1-36.m4a -> c:\\Users\\Hoon\\Nextcloud3\\Projects\\soundClassifier\\soundClassifier\\dataset\n"
     ]
    },
    {
     "name": "stderr",
     "output_type": "stream",
     "text": [
      " 44%|████▍     | 47/107 [00:35<00:32,  1.84it/s]"
     ]
    },
    {
     "name": "stdout",
     "output_type": "stream",
     "text": [
      "Retrieving File: /home/worker/.local/share/label-studio/media/upload/1/8f957d45-footsteps1.wav -> c:\\Users\\Hoon\\Nextcloud3\\Projects\\soundClassifier\\soundClassifier\\dataset\n"
     ]
    },
    {
     "name": "stderr",
     "output_type": "stream",
     "text": [
      " 45%|████▍     | 48/107 [00:35<00:30,  1.91it/s]"
     ]
    },
    {
     "name": "stdout",
     "output_type": "stream",
     "text": [
      "Retrieving File: /home/worker/.local/share/label-studio/media/upload/1/c158ec3b-footsteps2.wav -> c:\\Users\\Hoon\\Nextcloud3\\Projects\\soundClassifier\\soundClassifier\\dataset\n"
     ]
    },
    {
     "name": "stderr",
     "output_type": "stream",
     "text": [
      " 46%|████▌     | 49/107 [00:36<00:28,  2.01it/s]"
     ]
    },
    {
     "name": "stdout",
     "output_type": "stream",
     "text": [
      "Retrieving File: /home/worker/.local/share/label-studio/media/upload/1/f167d55f-footsteps3.wav -> c:\\Users\\Hoon\\Nextcloud3\\Projects\\soundClassifier\\soundClassifier\\dataset\n"
     ]
    },
    {
     "name": "stderr",
     "output_type": "stream",
     "text": [
      " 47%|████▋     | 50/107 [00:36<00:27,  2.11it/s]"
     ]
    },
    {
     "name": "stdout",
     "output_type": "stream",
     "text": [
      "Retrieving File: /home/worker/.local/share/label-studio/media/upload/1/ca5592d4-footsteps4.wav -> c:\\Users\\Hoon\\Nextcloud3\\Projects\\soundClassifier\\soundClassifier\\dataset\n"
     ]
    },
    {
     "name": "stderr",
     "output_type": "stream",
     "text": [
      " 48%|████▊     | 51/107 [00:37<00:25,  2.18it/s]"
     ]
    },
    {
     "name": "stdout",
     "output_type": "stream",
     "text": [
      "Retrieving File: /home/worker/.local/share/label-studio/media/upload/1/c1cf871c-footsteps5.wav -> c:\\Users\\Hoon\\Nextcloud3\\Projects\\soundClassifier\\soundClassifier\\dataset\n"
     ]
    },
    {
     "name": "stderr",
     "output_type": "stream",
     "text": [
      " 49%|████▊     | 52/107 [00:37<00:23,  2.32it/s]"
     ]
    },
    {
     "name": "stdout",
     "output_type": "stream",
     "text": [
      "Retrieving File: /home/worker/.local/share/label-studio/media/upload/1/2f608a40-footsteps6.wav -> c:\\Users\\Hoon\\Nextcloud3\\Projects\\soundClassifier\\soundClassifier\\dataset\n"
     ]
    },
    {
     "name": "stderr",
     "output_type": "stream",
     "text": [
      " 50%|████▉     | 53/107 [00:38<00:23,  2.30it/s]"
     ]
    },
    {
     "name": "stdout",
     "output_type": "stream",
     "text": [
      "Retrieving File: /home/worker/.local/share/label-studio/media/upload/1/22e6d1d7-footsteps7.wav -> c:\\Users\\Hoon\\Nextcloud3\\Projects\\soundClassifier\\soundClassifier\\dataset\n"
     ]
    },
    {
     "name": "stderr",
     "output_type": "stream",
     "text": [
      " 50%|█████     | 54/107 [00:38<00:25,  2.09it/s]"
     ]
    },
    {
     "name": "stdout",
     "output_type": "stream",
     "text": [
      "Retrieving File: /home/worker/.local/share/label-studio/media/upload/1/04bbd743-footsteps8.wav -> c:\\Users\\Hoon\\Nextcloud3\\Projects\\soundClassifier\\soundClassifier\\dataset\n"
     ]
    },
    {
     "name": "stderr",
     "output_type": "stream",
     "text": [
      " 51%|█████▏    | 55/107 [00:39<00:23,  2.17it/s]"
     ]
    },
    {
     "name": "stdout",
     "output_type": "stream",
     "text": [
      "Retrieving File: /home/worker/.local/share/label-studio/media/upload/1/33b53f09-footsteps9.wav -> c:\\Users\\Hoon\\Nextcloud3\\Projects\\soundClassifier\\soundClassifier\\dataset\n"
     ]
    },
    {
     "name": "stderr",
     "output_type": "stream",
     "text": [
      " 52%|█████▏    | 56/107 [00:39<00:23,  2.21it/s]"
     ]
    },
    {
     "name": "stdout",
     "output_type": "stream",
     "text": [
      "Retrieving File: /home/worker/.local/share/label-studio/media/upload/1/4f591069-footsteps10.wav -> c:\\Users\\Hoon\\Nextcloud3\\Projects\\soundClassifier\\soundClassifier\\dataset\n"
     ]
    },
    {
     "name": "stderr",
     "output_type": "stream",
     "text": [
      " 53%|█████▎    | 57/107 [00:39<00:22,  2.24it/s]"
     ]
    },
    {
     "name": "stdout",
     "output_type": "stream",
     "text": [
      "Retrieving File: /home/worker/.local/share/label-studio/media/upload/1/9fc55f09-alarms1.wav -> c:\\Users\\Hoon\\Nextcloud3\\Projects\\soundClassifier\\soundClassifier\\dataset\n"
     ]
    },
    {
     "name": "stderr",
     "output_type": "stream",
     "text": [
      " 54%|█████▍    | 58/107 [00:40<00:21,  2.32it/s]"
     ]
    },
    {
     "name": "stdout",
     "output_type": "stream",
     "text": [
      "Retrieving File: /home/worker/.local/share/label-studio/media/upload/1/3dd0469e-alarms2.wav -> c:\\Users\\Hoon\\Nextcloud3\\Projects\\soundClassifier\\soundClassifier\\dataset\n"
     ]
    },
    {
     "name": "stderr",
     "output_type": "stream",
     "text": [
      " 55%|█████▌    | 59/107 [00:40<00:20,  2.32it/s]"
     ]
    },
    {
     "name": "stdout",
     "output_type": "stream",
     "text": [
      "Retrieving File: /home/worker/.local/share/label-studio/media/upload/1/b8f86585-alarms3.wav -> c:\\Users\\Hoon\\Nextcloud3\\Projects\\soundClassifier\\soundClassifier\\dataset\n"
     ]
    },
    {
     "name": "stderr",
     "output_type": "stream",
     "text": [
      " 56%|█████▌    | 60/107 [00:41<00:20,  2.32it/s]"
     ]
    },
    {
     "name": "stdout",
     "output_type": "stream",
     "text": [
      "Retrieving File: /home/worker/.local/share/label-studio/media/upload/1/d74aa755-alarms4.wav -> c:\\Users\\Hoon\\Nextcloud3\\Projects\\soundClassifier\\soundClassifier\\dataset\n"
     ]
    },
    {
     "name": "stderr",
     "output_type": "stream",
     "text": [
      " 57%|█████▋    | 61/107 [00:41<00:19,  2.30it/s]"
     ]
    },
    {
     "name": "stdout",
     "output_type": "stream",
     "text": [
      "Retrieving File: /home/worker/.local/share/label-studio/media/upload/1/460ab0e0-alarms5.wav -> c:\\Users\\Hoon\\Nextcloud3\\Projects\\soundClassifier\\soundClassifier\\dataset\n"
     ]
    },
    {
     "name": "stderr",
     "output_type": "stream",
     "text": [
      " 58%|█████▊    | 62/107 [00:42<00:27,  1.62it/s]"
     ]
    },
    {
     "name": "stdout",
     "output_type": "stream",
     "text": [
      "Retrieving File: /home/worker/.local/share/label-studio/media/upload/1/e2dfb383-Drawer_opening_and_closing.m4a -> c:\\Users\\Hoon\\Nextcloud3\\Projects\\soundClassifier\\soundClassifier\\dataset\n"
     ]
    },
    {
     "name": "stderr",
     "output_type": "stream",
     "text": [
      " 59%|█████▉    | 63/107 [00:42<00:23,  1.84it/s]"
     ]
    },
    {
     "name": "stdout",
     "output_type": "stream",
     "text": [
      "Retrieving File: /home/worker/.local/share/label-studio/media/upload/1/78ceddb4-427092__nixeno__nixeno-hospital-room-ambience-with-clock-heart-beeb-and-paging.mp3 -> c:\\Users\\Hoon\\Nextcloud3\\Projects\\soundClassifier\\soundClassifier\\dataset\n"
     ]
    },
    {
     "name": "stderr",
     "output_type": "stream",
     "text": [
      " 60%|█████▉    | 64/107 [00:44<00:31,  1.39it/s]"
     ]
    },
    {
     "name": "stdout",
     "output_type": "stream",
     "text": [
      "Retrieving File: /home/worker/.local/share/label-studio/media/upload/1/9231d229-456768__wavjunctioncom__person-pushing-cart-down-hallway.wav -> c:\\Users\\Hoon\\Nextcloud3\\Projects\\soundClassifier\\soundClassifier\\dataset\n"
     ]
    },
    {
     "name": "stderr",
     "output_type": "stream",
     "text": [
      " 61%|██████    | 65/107 [00:46<00:54,  1.31s/it]"
     ]
    },
    {
     "name": "stdout",
     "output_type": "stream",
     "text": [
      "Retrieving File: /home/worker/.local/share/label-studio/media/upload/1/31ac8a28-675561__craigsmith__s05-04-cart-rolling-in-hallway-2-takes.wav -> c:\\Users\\Hoon\\Nextcloud3\\Projects\\soundClassifier\\soundClassifier\\dataset\n"
     ]
    },
    {
     "name": "stderr",
     "output_type": "stream",
     "text": [
      " 62%|██████▏   | 66/107 [00:47<00:50,  1.24s/it]"
     ]
    },
    {
     "name": "stdout",
     "output_type": "stream",
     "text": [
      "Retrieving File: /home/worker/.local/share/label-studio/media/upload/1/a52bdf0f-612621__felixblume__hospital-office-interior-roomtone-with-air-conditi_9wYbr3I.wav -> c:\\Users\\Hoon\\Nextcloud3\\Projects\\soundClassifier\\soundClassifier\\dataset\n"
     ]
    },
    {
     "name": "stderr",
     "output_type": "stream",
     "text": [
      " 63%|██████▎   | 67/107 [00:51<01:20,  2.02s/it]"
     ]
    },
    {
     "name": "stdout",
     "output_type": "stream",
     "text": [
      "Retrieving File: /home/worker/.local/share/label-studio/media/upload/1/1e5f3e4e-62311__erh__808-hospital-vox-2.wav -> c:\\Users\\Hoon\\Nextcloud3\\Projects\\soundClassifier\\soundClassifier\\dataset\n"
     ]
    },
    {
     "name": "stderr",
     "output_type": "stream",
     "text": [
      " 64%|██████▎   | 68/107 [00:52<01:04,  1.65s/it]"
     ]
    },
    {
     "name": "stdout",
     "output_type": "stream",
     "text": [
      "Retrieving File: /home/worker/.local/share/label-studio/media/upload/1/b503ba89-240805-142955.WAV -> c:\\Users\\Hoon\\Nextcloud3\\Projects\\soundClassifier\\soundClassifier\\dataset\n"
     ]
    },
    {
     "name": "stderr",
     "output_type": "stream",
     "text": [
      " 64%|██████▍   | 69/107 [00:54<01:03,  1.67s/it]"
     ]
    },
    {
     "name": "stdout",
     "output_type": "stream",
     "text": [
      "Retrieving File: /home/worker/.local/share/label-studio/media/upload/1/298d654d-240805-143055.WAV -> c:\\Users\\Hoon\\Nextcloud3\\Projects\\soundClassifier\\soundClassifier\\dataset\n"
     ]
    },
    {
     "name": "stderr",
     "output_type": "stream",
     "text": [
      " 65%|██████▌   | 70/107 [00:55<00:56,  1.53s/it]"
     ]
    },
    {
     "name": "stdout",
     "output_type": "stream",
     "text": [
      "Retrieving File: /home/worker/.local/share/label-studio/media/upload/1/782229f3-240801-173521.WAV -> c:\\Users\\Hoon\\Nextcloud3\\Projects\\soundClassifier\\soundClassifier\\dataset\n"
     ]
    },
    {
     "name": "stderr",
     "output_type": "stream",
     "text": [
      " 66%|██████▋   | 71/107 [00:56<00:48,  1.35s/it]"
     ]
    },
    {
     "name": "stdout",
     "output_type": "stream",
     "text": [
      "Retrieving File: /home/worker/.local/share/label-studio/media/upload/1/d78bfc16-240805-141921.WAV -> c:\\Users\\Hoon\\Nextcloud3\\Projects\\soundClassifier\\soundClassifier\\dataset\n"
     ]
    },
    {
     "name": "stderr",
     "output_type": "stream",
     "text": [
      " 67%|██████▋   | 72/107 [00:57<00:41,  1.19s/it]"
     ]
    },
    {
     "name": "stdout",
     "output_type": "stream",
     "text": [
      "Retrieving File: /home/worker/.local/share/label-studio/media/upload/1/41d770f5-240805-141940.WAV -> c:\\Users\\Hoon\\Nextcloud3\\Projects\\soundClassifier\\soundClassifier\\dataset\n"
     ]
    },
    {
     "name": "stderr",
     "output_type": "stream",
     "text": [
      " 68%|██████▊   | 73/107 [01:05<01:49,  3.21s/it]"
     ]
    },
    {
     "name": "stdout",
     "output_type": "stream",
     "text": [
      "Retrieving File: /home/worker/.local/share/label-studio/media/upload/1/10e8e8ab-240805-142321.WAV -> c:\\Users\\Hoon\\Nextcloud3\\Projects\\soundClassifier\\soundClassifier\\dataset\n"
     ]
    },
    {
     "name": "stderr",
     "output_type": "stream",
     "text": [
      " 69%|██████▉   | 74/107 [01:07<01:34,  2.87s/it]"
     ]
    },
    {
     "name": "stdout",
     "output_type": "stream",
     "text": [
      "Retrieving File: /home/worker/.local/share/label-studio/media/upload/1/8c3bb618-240805-142430.WAV -> c:\\Users\\Hoon\\Nextcloud3\\Projects\\soundClassifier\\soundClassifier\\dataset\n"
     ]
    },
    {
     "name": "stderr",
     "output_type": "stream",
     "text": [
      " 70%|███████   | 75/107 [01:09<01:25,  2.67s/it]"
     ]
    },
    {
     "name": "stdout",
     "output_type": "stream",
     "text": [
      "Retrieving File: /home/worker/.local/share/label-studio/media/upload/1/dcdf8e07-240805-142842.WAV -> c:\\Users\\Hoon\\Nextcloud3\\Projects\\soundClassifier\\soundClassifier\\dataset\n"
     ]
    },
    {
     "name": "stderr",
     "output_type": "stream",
     "text": [
      " 71%|███████   | 76/107 [01:12<01:23,  2.69s/it]"
     ]
    },
    {
     "name": "stdout",
     "output_type": "stream",
     "text": [
      "Retrieving File: /home/worker/.local/share/label-studio/media/upload/1/34be1bf2-Onject_in_glass_bottle.m4a -> c:\\Users\\Hoon\\Nextcloud3\\Projects\\soundClassifier\\soundClassifier\\dataset\n"
     ]
    },
    {
     "name": "stderr",
     "output_type": "stream",
     "text": [
      " 72%|███████▏  | 77/107 [01:12<01:00,  2.02s/it]"
     ]
    },
    {
     "name": "stdout",
     "output_type": "stream",
     "text": [
      "Retrieving File: /home/worker/.local/share/label-studio/media/upload/1/fd45704e-Pressure_cuff.m4a -> c:\\Users\\Hoon\\Nextcloud3\\Projects\\soundClassifier\\soundClassifier\\dataset\n"
     ]
    },
    {
     "name": "stderr",
     "output_type": "stream",
     "text": [
      " 73%|███████▎  | 78/107 [01:12<00:44,  1.54s/it]"
     ]
    },
    {
     "name": "stdout",
     "output_type": "stream",
     "text": [
      "Retrieving File: /home/worker/.local/share/label-studio/media/upload/1/78ba3d17-roomcall.m4a -> c:\\Users\\Hoon\\Nextcloud3\\Projects\\soundClassifier\\soundClassifier\\dataset\n"
     ]
    },
    {
     "name": "stderr",
     "output_type": "stream",
     "text": [
      " 74%|███████▍  | 79/107 [01:13<00:34,  1.22s/it]"
     ]
    },
    {
     "name": "stdout",
     "output_type": "stream",
     "text": [
      "Retrieving File: /home/worker/.local/share/label-studio/media/upload/1/7f8488f9-Sink_hand_washing.m4a -> c:\\Users\\Hoon\\Nextcloud3\\Projects\\soundClassifier\\soundClassifier\\dataset\n"
     ]
    },
    {
     "name": "stderr",
     "output_type": "stream",
     "text": [
      " 75%|███████▍  | 80/107 [01:13<00:26,  1.01it/s]"
     ]
    },
    {
     "name": "stdout",
     "output_type": "stream",
     "text": [
      "Retrieving File: /home/worker/.local/share/label-studio/media/upload/1/c08deac8-space_lab_keytone.m4a -> c:\\Users\\Hoon\\Nextcloud3\\Projects\\soundClassifier\\soundClassifier\\dataset\n"
     ]
    },
    {
     "name": "stderr",
     "output_type": "stream",
     "text": [
      " 76%|███████▌  | 81/107 [01:14<00:21,  1.23it/s]"
     ]
    },
    {
     "name": "stdout",
     "output_type": "stream",
     "text": [
      "Retrieving File: /home/worker/.local/share/label-studio/media/upload/1/37d2f6f5-spacelab4.m4a -> c:\\Users\\Hoon\\Nextcloud3\\Projects\\soundClassifier\\soundClassifier\\dataset\n"
     ]
    },
    {
     "name": "stderr",
     "output_type": "stream",
     "text": [
      " 77%|███████▋  | 82/107 [01:14<00:17,  1.40it/s]"
     ]
    },
    {
     "name": "stdout",
     "output_type": "stream",
     "text": [
      "Retrieving File: /home/worker/.local/share/label-studio/media/upload/1/f0886ea4-spacelab5.m4a -> c:\\Users\\Hoon\\Nextcloud3\\Projects\\soundClassifier\\soundClassifier\\dataset\n"
     ]
    },
    {
     "name": "stderr",
     "output_type": "stream",
     "text": [
      " 78%|███████▊  | 83/107 [01:15<00:15,  1.60it/s]"
     ]
    },
    {
     "name": "stdout",
     "output_type": "stream",
     "text": [
      "Retrieving File: /home/worker/.local/share/label-studio/media/upload/1/b427ffe7-things_rattling.m4a -> c:\\Users\\Hoon\\Nextcloud3\\Projects\\soundClassifier\\soundClassifier\\dataset\n"
     ]
    },
    {
     "name": "stderr",
     "output_type": "stream",
     "text": [
      " 79%|███████▊  | 84/107 [01:15<00:13,  1.75it/s]"
     ]
    },
    {
     "name": "stdout",
     "output_type": "stream",
     "text": [
      "Retrieving File: /home/worker/.local/share/label-studio/media/upload/1/09cd7071-Vaccuum_generator.m4a -> c:\\Users\\Hoon\\Nextcloud3\\Projects\\soundClassifier\\soundClassifier\\dataset\n"
     ]
    },
    {
     "name": "stderr",
     "output_type": "stream",
     "text": [
      " 79%|███████▉  | 85/107 [01:16<00:11,  1.90it/s]"
     ]
    },
    {
     "name": "stdout",
     "output_type": "stream",
     "text": [
      "Retrieving File: /home/worker/.local/share/label-studio/media/upload/1/2f50a1fe-Bed_adjustment_.m4a -> c:\\Users\\Hoon\\Nextcloud3\\Projects\\soundClassifier\\soundClassifier\\dataset\n"
     ]
    },
    {
     "name": "stderr",
     "output_type": "stream",
     "text": [
      " 80%|████████  | 86/107 [01:16<00:10,  1.99it/s]"
     ]
    },
    {
     "name": "stdout",
     "output_type": "stream",
     "text": [
      "Retrieving File: /home/worker/.local/share/label-studio/media/upload/1/ae863bc9-Curtain.m4a -> c:\\Users\\Hoon\\Nextcloud3\\Projects\\soundClassifier\\soundClassifier\\dataset\n"
     ]
    },
    {
     "name": "stderr",
     "output_type": "stream",
     "text": [
      " 81%|████████▏ | 87/107 [01:17<00:11,  1.72it/s]"
     ]
    },
    {
     "name": "stdout",
     "output_type": "stream",
     "text": [
      "Retrieving File: /home/worker/.local/share/label-studio/media/upload/1/37ca6088-Hoyer_actuation.m4a -> c:\\Users\\Hoon\\Nextcloud3\\Projects\\soundClassifier\\soundClassifier\\dataset\n"
     ]
    },
    {
     "name": "stderr",
     "output_type": "stream",
     "text": [
      " 82%|████████▏ | 88/107 [01:17<00:10,  1.73it/s]"
     ]
    },
    {
     "name": "stdout",
     "output_type": "stream",
     "text": [
      "Retrieving File: /home/worker/.local/share/label-studio/media/upload/1/003a2dbd-Hoyer_rolling.m4a -> c:\\Users\\Hoon\\Nextcloud3\\Projects\\soundClassifier\\soundClassifier\\dataset\n"
     ]
    },
    {
     "name": "stderr",
     "output_type": "stream",
     "text": [
      " 83%|████████▎ | 89/107 [01:18<00:10,  1.80it/s]"
     ]
    },
    {
     "name": "stdout",
     "output_type": "stream",
     "text": [
      "Retrieving File: /home/worker/.local/share/label-studio/media/upload/1/10b23668-Metal_lid_on_glass.m4a -> c:\\Users\\Hoon\\Nextcloud3\\Projects\\soundClassifier\\soundClassifier\\dataset\n"
     ]
    },
    {
     "name": "stderr",
     "output_type": "stream",
     "text": [
      " 84%|████████▍ | 90/107 [01:18<00:08,  1.90it/s]"
     ]
    },
    {
     "name": "stdout",
     "output_type": "stream",
     "text": [
      "Retrieving File: /home/worker/.local/share/label-studio/media/upload/1/bdefb059-Rolling_chair.m4a -> c:\\Users\\Hoon\\Nextcloud3\\Projects\\soundClassifier\\soundClassifier\\dataset\n"
     ]
    },
    {
     "name": "stderr",
     "output_type": "stream",
     "text": [
      " 85%|████████▌ | 91/107 [01:19<00:08,  1.80it/s]"
     ]
    },
    {
     "name": "stdout",
     "output_type": "stream",
     "text": [
      "Retrieving File: /home/worker/.local/share/label-studio/media/upload/1/cce0d4c9-Rolling_spacelabs.m4a -> c:\\Users\\Hoon\\Nextcloud3\\Projects\\soundClassifier\\soundClassifier\\dataset\n"
     ]
    },
    {
     "name": "stderr",
     "output_type": "stream",
     "text": [
      " 86%|████████▌ | 92/107 [01:20<00:08,  1.80it/s]"
     ]
    },
    {
     "name": "stdout",
     "output_type": "stream",
     "text": [
      "Retrieving File: /home/worker/.local/share/label-studio/media/upload/1/03b2dd73-spacelab.m4a -> c:\\Users\\Hoon\\Nextcloud3\\Projects\\soundClassifier\\soundClassifier\\dataset\n"
     ]
    },
    {
     "name": "stderr",
     "output_type": "stream",
     "text": [
      " 87%|████████▋ | 93/107 [01:20<00:08,  1.74it/s]"
     ]
    },
    {
     "name": "stdout",
     "output_type": "stream",
     "text": [
      "Retrieving File: /home/worker/.local/share/label-studio/media/upload/1/818b7f0b-spacelab2.m4a -> c:\\Users\\Hoon\\Nextcloud3\\Projects\\soundClassifier\\soundClassifier\\dataset\n"
     ]
    },
    {
     "name": "stderr",
     "output_type": "stream",
     "text": [
      " 88%|████████▊ | 94/107 [01:21<00:07,  1.68it/s]"
     ]
    },
    {
     "name": "stdout",
     "output_type": "stream",
     "text": [
      "3f84618c-spacelab3.m4a\n",
      "<class 'IndexError'> trainer.py 66\n",
      "list index out of range\n",
      "Retrieving File: /home/worker/.local/share/label-studio/media/upload/1/fd5f463e-Stationary_rolling_cart.m4a -> c:\\Users\\Hoon\\Nextcloud3\\Projects\\soundClassifier\\soundClassifier\\dataset\n"
     ]
    },
    {
     "name": "stderr",
     "output_type": "stream",
     "text": [
      " 90%|████████▉ | 96/107 [01:21<00:04,  2.27it/s]"
     ]
    },
    {
     "name": "stdout",
     "output_type": "stream",
     "text": [
      "Retrieving File: /home/worker/.local/share/label-studio/media/upload/1/ffe58c11-Trash_bucket.m4a -> c:\\Users\\Hoon\\Nextcloud3\\Projects\\soundClassifier\\soundClassifier\\dataset\n"
     ]
    },
    {
     "name": "stderr",
     "output_type": "stream",
     "text": [
      " 91%|█████████ | 97/107 [01:22<00:04,  2.21it/s]"
     ]
    },
    {
     "name": "stdout",
     "output_type": "stream",
     "text": [
      "Retrieving File: /home/worker/.local/share/label-studio/media/upload/1/adaad522-trolllyy_witth_things.m4a -> c:\\Users\\Hoon\\Nextcloud3\\Projects\\soundClassifier\\soundClassifier\\dataset\n"
     ]
    },
    {
     "name": "stderr",
     "output_type": "stream",
     "text": [
      " 92%|█████████▏| 98/107 [01:22<00:04,  2.15it/s]"
     ]
    },
    {
     "name": "stdout",
     "output_type": "stream",
     "text": [
      "Retrieving File: /home/worker/.local/share/label-studio/media/upload/1/9eb45ef5-Velcro.m4a -> c:\\Users\\Hoon\\Nextcloud3\\Projects\\soundClassifier\\soundClassifier\\dataset\n"
     ]
    },
    {
     "name": "stderr",
     "output_type": "stream",
     "text": [
      " 93%|█████████▎| 99/107 [01:23<00:03,  2.19it/s]"
     ]
    },
    {
     "name": "stdout",
     "output_type": "stream",
     "text": [
      "Retrieving File: /home/worker/.local/share/label-studio/media/upload/1/236cfa33-Armbubag.m4a -> c:\\Users\\Hoon\\Nextcloud3\\Projects\\soundClassifier\\soundClassifier\\dataset\n"
     ]
    },
    {
     "name": "stderr",
     "output_type": "stream",
     "text": [
      " 93%|█████████▎| 100/107 [01:23<00:03,  2.18it/s]"
     ]
    },
    {
     "name": "stdout",
     "output_type": "stream",
     "text": [
      "Retrieving File: /home/worker/.local/share/label-studio/media/upload/1/8ddcc23f-Chair_fight.m4a -> c:\\Users\\Hoon\\Nextcloud3\\Projects\\soundClassifier\\soundClassifier\\dataset\n"
     ]
    },
    {
     "name": "stderr",
     "output_type": "stream",
     "text": [
      " 94%|█████████▍| 101/107 [01:24<00:02,  2.20it/s]"
     ]
    },
    {
     "name": "stdout",
     "output_type": "stream",
     "text": [
      "Retrieving File: /home/worker/.local/share/label-studio/media/upload/1/8830abe7-Drawer.m4a -> c:\\Users\\Hoon\\Nextcloud3\\Projects\\soundClassifier\\soundClassifier\\dataset\n"
     ]
    },
    {
     "name": "stderr",
     "output_type": "stream",
     "text": [
      " 95%|█████████▌| 102/107 [01:24<00:02,  2.19it/s]"
     ]
    },
    {
     "name": "stdout",
     "output_type": "stream",
     "text": [
      "Retrieving File: /home/worker/.local/share/label-studio/media/upload/1/8a9a36c5-Four_caster_wheeel_hamper.m4a -> c:\\Users\\Hoon\\Nextcloud3\\Projects\\soundClassifier\\soundClassifier\\dataset\n"
     ]
    },
    {
     "name": "stderr",
     "output_type": "stream",
     "text": [
      " 96%|█████████▋| 103/107 [01:25<00:01,  2.21it/s]"
     ]
    },
    {
     "name": "stdout",
     "output_type": "stream",
     "text": [
      "Retrieving File: /home/worker/.local/share/label-studio/media/upload/1/657010c4-Medical_air_flow.m4a -> c:\\Users\\Hoon\\Nextcloud3\\Projects\\soundClassifier\\soundClassifier\\dataset\n"
     ]
    },
    {
     "name": "stderr",
     "output_type": "stream",
     "text": [
      " 97%|█████████▋| 104/107 [01:25<00:01,  2.13it/s]"
     ]
    },
    {
     "name": "stdout",
     "output_type": "stream",
     "text": [
      "Retrieving File: /home/worker/.local/share/label-studio/media/upload/1/b83f45e6-Metal_cabinet.m4a -> c:\\Users\\Hoon\\Nextcloud3\\Projects\\soundClassifier\\soundClassifier\\dataset\n"
     ]
    },
    {
     "name": "stderr",
     "output_type": "stream",
     "text": [
      " 98%|█████████▊| 105/107 [01:26<00:01,  1.93it/s]"
     ]
    },
    {
     "name": "stdout",
     "output_type": "stream",
     "text": [
      "Retrieving File: /home/worker/.local/share/label-studio/media/upload/1/ca99b189-Alaris_OCCLUSION_COMPLETE_-_KVO.mp3 -> c:\\Users\\Hoon\\Nextcloud3\\Projects\\soundClassifier\\soundClassifier\\dataset\n"
     ]
    },
    {
     "name": "stderr",
     "output_type": "stream",
     "text": [
      " 99%|█████████▉| 106/107 [01:26<00:00,  1.99it/s]"
     ]
    },
    {
     "name": "stdout",
     "output_type": "stream",
     "text": [
      "Retrieving File: /home/worker/.local/share/label-studio/media/upload/1/ce747491-Alaris_RESTART_CHANNEL.mp3 -> c:\\Users\\Hoon\\Nextcloud3\\Projects\\soundClassifier\\soundClassifier\\dataset\n"
     ]
    },
    {
     "name": "stderr",
     "output_type": "stream",
     "text": [
      "100%|██████████| 107/107 [01:27<00:00,  1.23it/s]\n"
     ]
    }
   ],
   "source": [
    "splited_dataset = trainer.prepare_data('project-1-at-2024-10-14-18-00-93e82746.json')     "
   ]
  },
  {
   "cell_type": "code",
   "execution_count": 4,
   "metadata": {},
   "outputs": [],
   "source": [
    "mfcc_features = trainer.get_mfcc(splited_dataset)\n",
    "mfcc_features = {label: features*2 for label, features in mfcc_features.items()}\n"
   ]
  },
  {
   "cell_type": "code",
   "execution_count": 5,
   "metadata": {},
   "outputs": [
    {
     "data": {
      "image/png": "[encoded data removed]",
      "text/plain": [
       "<Figure size 1200x600 with 1 Axes>"
      ]
     },
     "metadata": {},
     "output_type": "display_data"
    }
   ],
   "source": [
    "# Visualize the occupancy of the splited dataset\n",
    "occupancy = {label: len(features) for label, features in mfcc_features.items()}\n",
    "labels = list(occupancy.keys())\n",
    "values = list(occupancy.values())\n",
    "\n",
    "plt.figure(figsize=(12, 6))\n",
    "plt.bar(labels, values, color='skyblue')\n",
    "plt.xlabel('Labels')\n",
    "plt.ylabel('Number of Features')\n",
    "plt.title('Occupancy of Splited Dataset')\n",
    "plt.xticks(rotation=45)\n",
    "plt.tight_layout()\n",
    "plt.show()\n"
   ]
  },
  {
   "cell_type": "code",
   "execution_count": 6,
   "metadata": {},
   "outputs": [
    {
     "name": "stdout",
     "output_type": "stream",
     "text": [
      "Training set size: 631\n",
      "Testing set size: 271\n"
     ]
    }
   ],
   "source": [
    "\n",
    "x_train, x_test, y_train, y_test, label = trainer.split_data(mfcc_features)"
   ]
  },
  {
   "cell_type": "code",
   "execution_count": 7,
   "metadata": {},
   "outputs": [
    {
     "name": "stderr",
     "output_type": "stream",
     "text": [
      "c:\\Users\\Hoon\\Nextcloud3\\Projects\\AudioTrain\\.venv\\lib\\site-packages\\keras\\src\\layers\\core\\dense.py:87: UserWarning: Do not pass an `input_shape`/`input_dim` argument to a layer. When using Sequential models, prefer using an `Input(shape)` object as the first layer in the model instead.\n",
      "  super().__init__(activity_regularizer=activity_regularizer, **kwargs)\n"
     ]
    },
    {
     "data": {
      "text/html": [
       "<pre style=\"white-space:pre;overflow-x:auto;line-height:normal;font-family:Menlo,'DejaVu Sans Mono',consolas,'Courier New',monospace\"><span style=\"font-weight: bold\">Model: \"sequential\"</span>\n",
       "</pre>\n"
      ],
      "text/plain": [
       "\u001b[1mModel: \"sequential\"\u001b[0m\n"
      ]
     },
     "metadata": {},
     "output_type": "display_data"
    },
    {
     "data": {
      "text/html": [
       "<pre style=\"white-space:pre;overflow-x:auto;line-height:normal;font-family:Menlo,'DejaVu Sans Mono',consolas,'Courier New',monospace\">┏━━━━━━━━━━━━━━━━━━━━━━━━━━━━━━━━━┳━━━━━━━━━━━━━━━━━━━━━━━━┳━━━━━━━━━━━━━━━┓\n",
       "┃<span style=\"font-weight: bold\"> Layer (type)                    </span>┃<span style=\"font-weight: bold\"> Output Shape           </span>┃<span style=\"font-weight: bold\">       Param # </span>┃\n",
       "┡━━━━━━━━━━━━━━━━━━━━━━━━━━━━━━━━━╇━━━━━━━━━━━━━━━━━━━━━━━━╇━━━━━━━━━━━━━━━┩\n",
       "│ conv1d (<span style=\"color: #0087ff; text-decoration-color: #0087ff\">Conv1D</span>)                 │ (<span style=\"color: #00d7ff; text-decoration-color: #00d7ff\">None</span>, <span style=\"color: #00af00; text-decoration-color: #00af00\">40</span>, <span style=\"color: #00af00; text-decoration-color: #00af00\">64</span>)         │           <span style=\"color: #00af00; text-decoration-color: #00af00\">256</span> │\n",
       "├─────────────────────────────────┼────────────────────────┼───────────────┤\n",
       "│ max_pooling1d (<span style=\"color: #0087ff; text-decoration-color: #0087ff\">MaxPooling1D</span>)    │ (<span style=\"color: #00d7ff; text-decoration-color: #00d7ff\">None</span>, <span style=\"color: #00af00; text-decoration-color: #00af00\">20</span>, <span style=\"color: #00af00; text-decoration-color: #00af00\">64</span>)         │             <span style=\"color: #00af00; text-decoration-color: #00af00\">0</span> │\n",
       "├─────────────────────────────────┼────────────────────────┼───────────────┤\n",
       "│ dense (<span style=\"color: #0087ff; text-decoration-color: #0087ff\">Dense</span>)                   │ (<span style=\"color: #00d7ff; text-decoration-color: #00d7ff\">None</span>, <span style=\"color: #00af00; text-decoration-color: #00af00\">20</span>, <span style=\"color: #00af00; text-decoration-color: #00af00\">64</span>)         │         <span style=\"color: #00af00; text-decoration-color: #00af00\">4,160</span> │\n",
       "├─────────────────────────────────┼────────────────────────┼───────────────┤\n",
       "│ dropout (<span style=\"color: #0087ff; text-decoration-color: #0087ff\">Dropout</span>)               │ (<span style=\"color: #00d7ff; text-decoration-color: #00d7ff\">None</span>, <span style=\"color: #00af00; text-decoration-color: #00af00\">20</span>, <span style=\"color: #00af00; text-decoration-color: #00af00\">64</span>)         │             <span style=\"color: #00af00; text-decoration-color: #00af00\">0</span> │\n",
       "├─────────────────────────────────┼────────────────────────┼───────────────┤\n",
       "│ conv1d_1 (<span style=\"color: #0087ff; text-decoration-color: #0087ff\">Conv1D</span>)               │ (<span style=\"color: #00d7ff; text-decoration-color: #00d7ff\">None</span>, <span style=\"color: #00af00; text-decoration-color: #00af00\">20</span>, <span style=\"color: #00af00; text-decoration-color: #00af00\">128</span>)        │        <span style=\"color: #00af00; text-decoration-color: #00af00\">24,704</span> │\n",
       "├─────────────────────────────────┼────────────────────────┼───────────────┤\n",
       "│ max_pooling1d_1 (<span style=\"color: #0087ff; text-decoration-color: #0087ff\">MaxPooling1D</span>)  │ (<span style=\"color: #00d7ff; text-decoration-color: #00d7ff\">None</span>, <span style=\"color: #00af00; text-decoration-color: #00af00\">10</span>, <span style=\"color: #00af00; text-decoration-color: #00af00\">128</span>)        │             <span style=\"color: #00af00; text-decoration-color: #00af00\">0</span> │\n",
       "├─────────────────────────────────┼────────────────────────┼───────────────┤\n",
       "│ dense_1 (<span style=\"color: #0087ff; text-decoration-color: #0087ff\">Dense</span>)                 │ (<span style=\"color: #00d7ff; text-decoration-color: #00d7ff\">None</span>, <span style=\"color: #00af00; text-decoration-color: #00af00\">10</span>, <span style=\"color: #00af00; text-decoration-color: #00af00\">128</span>)        │        <span style=\"color: #00af00; text-decoration-color: #00af00\">16,512</span> │\n",
       "├─────────────────────────────────┼────────────────────────┼───────────────┤\n",
       "│ dropout_1 (<span style=\"color: #0087ff; text-decoration-color: #0087ff\">Dropout</span>)             │ (<span style=\"color: #00d7ff; text-decoration-color: #00d7ff\">None</span>, <span style=\"color: #00af00; text-decoration-color: #00af00\">10</span>, <span style=\"color: #00af00; text-decoration-color: #00af00\">128</span>)        │             <span style=\"color: #00af00; text-decoration-color: #00af00\">0</span> │\n",
       "├─────────────────────────────────┼────────────────────────┼───────────────┤\n",
       "│ max_pooling1d_2 (<span style=\"color: #0087ff; text-decoration-color: #0087ff\">MaxPooling1D</span>)  │ (<span style=\"color: #00d7ff; text-decoration-color: #00d7ff\">None</span>, <span style=\"color: #00af00; text-decoration-color: #00af00\">5</span>, <span style=\"color: #00af00; text-decoration-color: #00af00\">128</span>)         │             <span style=\"color: #00af00; text-decoration-color: #00af00\">0</span> │\n",
       "├─────────────────────────────────┼────────────────────────┼───────────────┤\n",
       "│ flatten (<span style=\"color: #0087ff; text-decoration-color: #0087ff\">Flatten</span>)               │ (<span style=\"color: #00d7ff; text-decoration-color: #00d7ff\">None</span>, <span style=\"color: #00af00; text-decoration-color: #00af00\">640</span>)            │             <span style=\"color: #00af00; text-decoration-color: #00af00\">0</span> │\n",
       "├─────────────────────────────────┼────────────────────────┼───────────────┤\n",
       "│ dense_2 (<span style=\"color: #0087ff; text-decoration-color: #0087ff\">Dense</span>)                 │ (<span style=\"color: #00d7ff; text-decoration-color: #00d7ff\">None</span>, <span style=\"color: #00af00; text-decoration-color: #00af00\">512</span>)            │       <span style=\"color: #00af00; text-decoration-color: #00af00\">328,192</span> │\n",
       "├─────────────────────────────────┼────────────────────────┼───────────────┤\n",
       "│ dropout_2 (<span style=\"color: #0087ff; text-decoration-color: #0087ff\">Dropout</span>)             │ (<span style=\"color: #00d7ff; text-decoration-color: #00d7ff\">None</span>, <span style=\"color: #00af00; text-decoration-color: #00af00\">512</span>)            │             <span style=\"color: #00af00; text-decoration-color: #00af00\">0</span> │\n",
       "├─────────────────────────────────┼────────────────────────┼───────────────┤\n",
       "│ dense_3 (<span style=\"color: #0087ff; text-decoration-color: #0087ff\">Dense</span>)                 │ (<span style=\"color: #00d7ff; text-decoration-color: #00d7ff\">None</span>, <span style=\"color: #00af00; text-decoration-color: #00af00\">19</span>)             │         <span style=\"color: #00af00; text-decoration-color: #00af00\">9,747</span> │\n",
       "└─────────────────────────────────┴────────────────────────┴───────────────┘\n",
       "</pre>\n"
      ],
      "text/plain": [
       "┏━━━━━━━━━━━━━━━━━━━━━━━━━━━━━━━━━┳━━━━━━━━━━━━━━━━━━━━━━━━┳━━━━━━━━━━━━━━━┓\n",
       "┃\u001b[1m \u001b[0m\u001b[1mLayer (type)                   \u001b[0m\u001b[1m \u001b[0m┃\u001b[1m \u001b[0m\u001b[1mOutput Shape          \u001b[0m\u001b[1m \u001b[0m┃\u001b[1m \u001b[0m\u001b[1m      Param #\u001b[0m\u001b[1m \u001b[0m┃\n",
       "┡━━━━━━━━━━━━━━━━━━━━━━━━━━━━━━━━━╇━━━━━━━━━━━━━━━━━━━━━━━━╇━━━━━━━━━━━━━━━┩\n",
       "│ conv1d (\u001b[38;5;33mConv1D\u001b[0m)                 │ (\u001b[38;5;45mNone\u001b[0m, \u001b[38;5;34m40\u001b[0m, \u001b[38;5;34m64\u001b[0m)         │           \u001b[38;5;34m256\u001b[0m │\n",
       "├─────────────────────────────────┼────────────────────────┼───────────────┤\n",
       "│ max_pooling1d (\u001b[38;5;33mMaxPooling1D\u001b[0m)    │ (\u001b[38;5;45mNone\u001b[0m, \u001b[38;5;34m20\u001b[0m, \u001b[38;5;34m64\u001b[0m)         │             \u001b[38;5;34m0\u001b[0m │\n",
       "├─────────────────────────────────┼────────────────────────┼───────────────┤\n",
       "│ dense (\u001b[38;5;33mDense\u001b[0m)                   │ (\u001b[38;5;45mNone\u001b[0m, \u001b[38;5;34m20\u001b[0m, \u001b[38;5;34m64\u001b[0m)         │         \u001b[38;5;34m4,160\u001b[0m │\n",
       "├─────────────────────────────────┼────────────────────────┼───────────────┤\n",
       "│ dropout (\u001b[38;5;33mDropout\u001b[0m)               │ (\u001b[38;5;45mNone\u001b[0m, \u001b[38;5;34m20\u001b[0m, \u001b[38;5;34m64\u001b[0m)         │             \u001b[38;5;34m0\u001b[0m │\n",
       "├─────────────────────────────────┼────────────────────────┼───────────────┤\n",
       "│ conv1d_1 (\u001b[38;5;33mConv1D\u001b[0m)               │ (\u001b[38;5;45mNone\u001b[0m, \u001b[38;5;34m20\u001b[0m, \u001b[38;5;34m128\u001b[0m)        │        \u001b[38;5;34m24,704\u001b[0m │\n",
       "├─────────────────────────────────┼────────────────────────┼───────────────┤\n",
       "│ max_pooling1d_1 (\u001b[38;5;33mMaxPooling1D\u001b[0m)  │ (\u001b[38;5;45mNone\u001b[0m, \u001b[38;5;34m10\u001b[0m, \u001b[38;5;34m128\u001b[0m)        │             \u001b[38;5;34m0\u001b[0m │\n",
       "├─────────────────────────────────┼────────────────────────┼───────────────┤\n",
       "│ dense_1 (\u001b[38;5;33mDense\u001b[0m)                 │ (\u001b[38;5;45mNone\u001b[0m, \u001b[38;5;34m10\u001b[0m, \u001b[38;5;34m128\u001b[0m)        │        \u001b[38;5;34m16,512\u001b[0m │\n",
       "├─────────────────────────────────┼────────────────────────┼───────────────┤\n",
       "│ dropout_1 (\u001b[38;5;33mDropout\u001b[0m)             │ (\u001b[38;5;45mNone\u001b[0m, \u001b[38;5;34m10\u001b[0m, \u001b[38;5;34m128\u001b[0m)        │             \u001b[38;5;34m0\u001b[0m │\n",
       "├─────────────────────────────────┼────────────────────────┼───────────────┤\n",
       "│ max_pooling1d_2 (\u001b[38;5;33mMaxPooling1D\u001b[0m)  │ (\u001b[38;5;45mNone\u001b[0m, \u001b[38;5;34m5\u001b[0m, \u001b[38;5;34m128\u001b[0m)         │             \u001b[38;5;34m0\u001b[0m │\n",
       "├─────────────────────────────────┼────────────────────────┼───────────────┤\n",
       "│ flatten (\u001b[38;5;33mFlatten\u001b[0m)               │ (\u001b[38;5;45mNone\u001b[0m, \u001b[38;5;34m640\u001b[0m)            │             \u001b[38;5;34m0\u001b[0m │\n",
       "├─────────────────────────────────┼────────────────────────┼───────────────┤\n",
       "│ dense_2 (\u001b[38;5;33mDense\u001b[0m)                 │ (\u001b[38;5;45mNone\u001b[0m, \u001b[38;5;34m512\u001b[0m)            │       \u001b[38;5;34m328,192\u001b[0m │\n",
       "├─────────────────────────────────┼────────────────────────┼───────────────┤\n",
       "│ dropout_2 (\u001b[38;5;33mDropout\u001b[0m)             │ (\u001b[38;5;45mNone\u001b[0m, \u001b[38;5;34m512\u001b[0m)            │             \u001b[38;5;34m0\u001b[0m │\n",
       "├─────────────────────────────────┼────────────────────────┼───────────────┤\n",
       "│ dense_3 (\u001b[38;5;33mDense\u001b[0m)                 │ (\u001b[38;5;45mNone\u001b[0m, \u001b[38;5;34m19\u001b[0m)             │         \u001b[38;5;34m9,747\u001b[0m │\n",
       "└─────────────────────────────────┴────────────────────────┴───────────────┘\n"
      ]
     },
     "metadata": {},
     "output_type": "display_data"
    },
    {
     "data": {
      "text/html": [
       "<pre style=\"white-space:pre;overflow-x:auto;line-height:normal;font-family:Menlo,'DejaVu Sans Mono',consolas,'Courier New',monospace\"><span style=\"font-weight: bold\"> Total params: </span><span style=\"color: #00af00; text-decoration-color: #00af00\">383,571</span> (1.46 MB)\n",
       "</pre>\n"
      ],
      "text/plain": [
       "\u001b[1m Total params: \u001b[0m\u001b[38;5;34m383,571\u001b[0m (1.46 MB)\n"
      ]
     },
     "metadata": {},
     "output_type": "display_data"
    },
    {
     "data": {
      "text/html": [
       "<pre style=\"white-space:pre;overflow-x:auto;line-height:normal;font-family:Menlo,'DejaVu Sans Mono',consolas,'Courier New',monospace\"><span style=\"font-weight: bold\"> Trainable params: </span><span style=\"color: #00af00; text-decoration-color: #00af00\">383,571</span> (1.46 MB)\n",
       "</pre>\n"
      ],
      "text/plain": [
       "\u001b[1m Trainable params: \u001b[0m\u001b[38;5;34m383,571\u001b[0m (1.46 MB)\n"
      ]
     },
     "metadata": {},
     "output_type": "display_data"
    },
    {
     "data": {
      "text/html": [
       "<pre style=\"white-space:pre;overflow-x:auto;line-height:normal;font-family:Menlo,'DejaVu Sans Mono',consolas,'Courier New',monospace\"><span style=\"font-weight: bold\"> Non-trainable params: </span><span style=\"color: #00af00; text-decoration-color: #00af00\">0</span> (0.00 B)\n",
       "</pre>\n"
      ],
      "text/plain": [
       "\u001b[1m Non-trainable params: \u001b[0m\u001b[38;5;34m0\u001b[0m (0.00 B)\n"
      ]
     },
     "metadata": {},
     "output_type": "display_data"
    }
   ],
   "source": [
    "model = trainer.build_model(x_train, x_test, y_train, y_test)"
   ]
  },
  {
   "cell_type": "code",
   "execution_count": 8,
   "metadata": {},
   "outputs": [
    {
     "name": "stdout",
     "output_type": "stream",
     "text": [
      "Epoch 1/100\n",
      "\u001b[1m79/79\u001b[0m \u001b[32m━━━━━━━━━━━━━━━━━━━━\u001b[0m\u001b[37m\u001b[0m \u001b[1m3s\u001b[0m 23ms/step - accuracy: 0.2444 - loss: 5.4273 - val_accuracy: 0.5978 - val_loss: 1.6691\n",
      "Epoch 2/100\n",
      "\u001b[1m79/79\u001b[0m \u001b[32m━━━━━━━━━━━━━━━━━━━━\u001b[0m\u001b[37m\u001b[0m \u001b[1m1s\u001b[0m 7ms/step - accuracy: 0.5521 - loss: 1.6355 - val_accuracy: 0.6716 - val_loss: 1.1331\n",
      "Epoch 3/100\n",
      "\u001b[1m79/79\u001b[0m \u001b[32m━━━━━━━━━━━━━━━━━━━━\u001b[0m\u001b[37m\u001b[0m \u001b[1m0s\u001b[0m 4ms/step - accuracy: 0.6678 - loss: 1.0944 - val_accuracy: 0.7749 - val_loss: 0.8760\n",
      "Epoch 4/100\n",
      "\u001b[1m79/79\u001b[0m \u001b[32m━━━━━━━━━━━━━━━━━━━━\u001b[0m\u001b[37m\u001b[0m \u001b[1m0s\u001b[0m 4ms/step - accuracy: 0.7543 - loss: 0.8230 - val_accuracy: 0.8745 - val_loss: 0.5215\n",
      "Epoch 5/100\n",
      "\u001b[1m79/79\u001b[0m \u001b[32m━━━━━━━━━━━━━━━━━━━━\u001b[0m\u001b[37m\u001b[0m \u001b[1m0s\u001b[0m 4ms/step - accuracy: 0.8136 - loss: 0.6288 - val_accuracy: 0.8524 - val_loss: 0.5178\n",
      "Epoch 6/100\n",
      "\u001b[1m79/79\u001b[0m \u001b[32m━━━━━━━━━━━━━━━━━━━━\u001b[0m\u001b[37m\u001b[0m \u001b[1m0s\u001b[0m 4ms/step - accuracy: 0.8497 - loss: 0.4811 - val_accuracy: 0.8598 - val_loss: 0.5035\n",
      "Epoch 7/100\n",
      "\u001b[1m79/79\u001b[0m \u001b[32m━━━━━━━━━━━━━━━━━━━━\u001b[0m\u001b[37m\u001b[0m \u001b[1m0s\u001b[0m 4ms/step - accuracy: 0.8818 - loss: 0.3913 - val_accuracy: 0.8303 - val_loss: 0.5692\n",
      "Epoch 8/100\n",
      "\u001b[1m79/79\u001b[0m \u001b[32m━━━━━━━━━━━━━━━━━━━━\u001b[0m\u001b[37m\u001b[0m \u001b[1m0s\u001b[0m 4ms/step - accuracy: 0.8826 - loss: 0.4088 - val_accuracy: 0.8745 - val_loss: 0.3982\n",
      "Epoch 9/100\n",
      "\u001b[1m79/79\u001b[0m \u001b[32m━━━━━━━━━━━━━━━━━━━━\u001b[0m\u001b[37m\u001b[0m \u001b[1m0s\u001b[0m 4ms/step - accuracy: 0.9026 - loss: 0.3059 - val_accuracy: 0.8672 - val_loss: 0.5124\n",
      "Epoch 10/100\n",
      "\u001b[1m79/79\u001b[0m \u001b[32m━━━━━━━━━━━━━━━━━━━━\u001b[0m\u001b[37m\u001b[0m \u001b[1m0s\u001b[0m 4ms/step - accuracy: 0.9205 - loss: 0.2958 - val_accuracy: 0.8856 - val_loss: 0.3978\n",
      "Epoch 11/100\n",
      "\u001b[1m79/79\u001b[0m \u001b[32m━━━━━━━━━━━━━━━━━━━━\u001b[0m\u001b[37m\u001b[0m \u001b[1m0s\u001b[0m 4ms/step - accuracy: 0.9385 - loss: 0.1917 - val_accuracy: 0.9114 - val_loss: 0.2892\n",
      "Epoch 12/100\n",
      "\u001b[1m79/79\u001b[0m \u001b[32m━━━━━━━━━━━━━━━━━━━━\u001b[0m\u001b[37m\u001b[0m \u001b[1m0s\u001b[0m 4ms/step - accuracy: 0.9338 - loss: 0.1868 - val_accuracy: 0.9041 - val_loss: 0.3961\n",
      "Epoch 13/100\n",
      "\u001b[1m79/79\u001b[0m \u001b[32m━━━━━━━━━━━━━━━━━━━━\u001b[0m\u001b[37m\u001b[0m \u001b[1m0s\u001b[0m 4ms/step - accuracy: 0.9636 - loss: 0.1966 - val_accuracy: 0.9041 - val_loss: 0.3368\n",
      "Epoch 14/100\n",
      "\u001b[1m79/79\u001b[0m \u001b[32m━━━━━━━━━━━━━━━━━━━━\u001b[0m\u001b[37m\u001b[0m \u001b[1m0s\u001b[0m 4ms/step - accuracy: 0.9312 - loss: 0.1719 - val_accuracy: 0.8598 - val_loss: 0.3999\n",
      "Epoch 15/100\n",
      "\u001b[1m79/79\u001b[0m \u001b[32m━━━━━━━━━━━━━━━━━━━━\u001b[0m\u001b[37m\u001b[0m \u001b[1m0s\u001b[0m 4ms/step - accuracy: 0.9594 - loss: 0.1285 - val_accuracy: 0.9225 - val_loss: 0.2510\n",
      "Epoch 16/100\n",
      "\u001b[1m79/79\u001b[0m \u001b[32m━━━━━━━━━━━━━━━━━━━━\u001b[0m\u001b[37m\u001b[0m \u001b[1m0s\u001b[0m 4ms/step - accuracy: 0.9726 - loss: 0.0912 - val_accuracy: 0.9299 - val_loss: 0.2919\n",
      "Epoch 17/100\n",
      "\u001b[1m79/79\u001b[0m \u001b[32m━━━━━━━━━━━━━━━━━━━━\u001b[0m\u001b[37m\u001b[0m \u001b[1m0s\u001b[0m 4ms/step - accuracy: 0.9558 - loss: 0.1121 - val_accuracy: 0.9262 - val_loss: 0.2830\n",
      "Epoch 18/100\n",
      "\u001b[1m79/79\u001b[0m \u001b[32m━━━━━━━━━━━━━━━━━━━━\u001b[0m\u001b[37m\u001b[0m \u001b[1m0s\u001b[0m 4ms/step - accuracy: 0.9754 - loss: 0.1048 - val_accuracy: 0.9188 - val_loss: 0.3019\n",
      "Epoch 19/100\n",
      "\u001b[1m79/79\u001b[0m \u001b[32m━━━━━━━━━━━━━━━━━━━━\u001b[0m\u001b[37m\u001b[0m \u001b[1m0s\u001b[0m 4ms/step - accuracy: 0.9659 - loss: 0.1237 - val_accuracy: 0.9151 - val_loss: 0.3026\n",
      "Epoch 20/100\n",
      "\u001b[1m79/79\u001b[0m \u001b[32m━━━━━━━━━━━━━━━━━━━━\u001b[0m\u001b[37m\u001b[0m \u001b[1m0s\u001b[0m 4ms/step - accuracy: 0.9659 - loss: 0.1183 - val_accuracy: 0.9225 - val_loss: 0.2965\n",
      "Epoch 21/100\n",
      "\u001b[1m79/79\u001b[0m \u001b[32m━━━━━━━━━━━━━━━━━━━━\u001b[0m\u001b[37m\u001b[0m \u001b[1m0s\u001b[0m 4ms/step - accuracy: 0.9680 - loss: 0.1283 - val_accuracy: 0.8930 - val_loss: 0.4335\n",
      "Epoch 22/100\n",
      "\u001b[1m79/79\u001b[0m \u001b[32m━━━━━━━━━━━━━━━━━━━━\u001b[0m\u001b[37m\u001b[0m \u001b[1m0s\u001b[0m 4ms/step - accuracy: 0.9766 - loss: 0.0637 - val_accuracy: 0.8782 - val_loss: 0.5760\n",
      "Epoch 23/100\n",
      "\u001b[1m79/79\u001b[0m \u001b[32m━━━━━━━━━━━━━━━━━━━━\u001b[0m\u001b[37m\u001b[0m \u001b[1m0s\u001b[0m 4ms/step - accuracy: 0.9593 - loss: 0.1235 - val_accuracy: 0.9151 - val_loss: 0.3122\n",
      "Epoch 24/100\n",
      "\u001b[1m79/79\u001b[0m \u001b[32m━━━━━━━━━━━━━━━━━━━━\u001b[0m\u001b[37m\u001b[0m \u001b[1m0s\u001b[0m 4ms/step - accuracy: 0.9784 - loss: 0.0742 - val_accuracy: 0.9299 - val_loss: 0.2899\n",
      "Epoch 25/100\n",
      "\u001b[1m79/79\u001b[0m \u001b[32m━━━━━━━━━━━━━━━━━━━━\u001b[0m\u001b[37m\u001b[0m \u001b[1m0s\u001b[0m 4ms/step - accuracy: 0.9795 - loss: 0.0576 - val_accuracy: 0.9188 - val_loss: 0.2630\n",
      "Epoch 26/100\n",
      "\u001b[1m79/79\u001b[0m \u001b[32m━━━━━━━━━━━━━━━━━━━━\u001b[0m\u001b[37m\u001b[0m \u001b[1m0s\u001b[0m 4ms/step - accuracy: 0.9690 - loss: 0.0728 - val_accuracy: 0.9077 - val_loss: 0.3163\n",
      "Epoch 27/100\n",
      "\u001b[1m79/79\u001b[0m \u001b[32m━━━━━━━━━━━━━━━━━━━━\u001b[0m\u001b[37m\u001b[0m \u001b[1m0s\u001b[0m 4ms/step - accuracy: 0.9797 - loss: 0.0742 - val_accuracy: 0.9188 - val_loss: 0.2896\n",
      "Epoch 28/100\n",
      "\u001b[1m79/79\u001b[0m \u001b[32m━━━━━━━━━━━━━━━━━━━━\u001b[0m\u001b[37m\u001b[0m \u001b[1m0s\u001b[0m 4ms/step - accuracy: 0.9788 - loss: 0.0690 - val_accuracy: 0.9262 - val_loss: 0.2957\n",
      "Epoch 29/100\n",
      "\u001b[1m79/79\u001b[0m \u001b[32m━━━━━━━━━━━━━━━━━━━━\u001b[0m\u001b[37m\u001b[0m \u001b[1m0s\u001b[0m 4ms/step - accuracy: 0.9738 - loss: 0.0823 - val_accuracy: 0.9041 - val_loss: 0.3446\n",
      "Epoch 30/100\n",
      "\u001b[1m79/79\u001b[0m \u001b[32m━━━━━━━━━━━━━━━━━━━━\u001b[0m\u001b[37m\u001b[0m \u001b[1m0s\u001b[0m 4ms/step - accuracy: 0.9698 - loss: 0.1131 - val_accuracy: 0.9299 - val_loss: 0.2924\n",
      "Epoch 31/100\n",
      "\u001b[1m79/79\u001b[0m \u001b[32m━━━━━━━━━━━━━━━━━━━━\u001b[0m\u001b[37m\u001b[0m \u001b[1m0s\u001b[0m 4ms/step - accuracy: 0.9556 - loss: 0.1187 - val_accuracy: 0.9041 - val_loss: 0.2561\n"
     ]
    },
    {
     "data": {
      "image/png": "[encoded data removed]",
      "text/plain": [
       "<Figure size 640x480 with 1 Axes>"
      ]
     },
     "metadata": {},
     "output_type": "display_data"
    }
   ],
   "source": [
    "\n",
    "trainer.train(model, x_train, x_test, y_train, y_test)"
   ]
  },
  {
   "cell_type": "code",
   "execution_count": 9,
   "metadata": {},
   "outputs": [
    {
     "name": "stdout",
     "output_type": "stream",
     "text": [
      "\u001b[1m9/9\u001b[0m \u001b[32m━━━━━━━━━━━━━━━━━━━━\u001b[0m\u001b[37m\u001b[0m \u001b[1m0s\u001b[0m 3ms/step - accuracy: 0.9081 - loss: 0.2670 \n",
      "Test Loss: 0.2561\n",
      "Test Accuracy: 0.9041\n",
      "\u001b[1m9/9\u001b[0m \u001b[32m━━━━━━━━━━━━━━━━━━━━\u001b[0m\u001b[37m\u001b[0m \u001b[1m0s\u001b[0m 9ms/step\n",
      "                              precision    recall  f1-score   support\n",
      "\n",
      "            Hospital Devices       0.62      0.71      0.67         7\n",
      "    objects clanging (metal)       0.88      1.00      0.93        14\n",
      "              Pneumatic Tube       1.00      0.60      0.75         5\n",
      "                   Room Call       1.00      1.00      1.00        10\n",
      "    Manual Resuscitation Bag       1.00      1.00      1.00         6\n",
      "objects clanging (non-metal)       1.00      1.00      1.00         6\n",
      "                    curtains       0.89      1.00      0.94        16\n",
      "                     drawers       0.73      0.85      0.79        13\n",
      "                 Composition       1.00      0.76      0.87        17\n",
      "                      Speech       0.64      1.00      0.78         7\n",
      "               Rolling Carts       0.98      0.95      0.97       104\n",
      "           medical air valve       0.74      1.00      0.85        20\n",
      "                   SpaceLAbs       1.00      1.00      1.00        17\n",
      "                   footsteps       1.00      1.00      1.00         1\n",
      "                        HVAC       0.60      1.00      0.75         3\n",
      "                  Sink/Water       0.00      0.00      0.00         7\n",
      "                       Lifts       1.00      1.00      1.00         6\n",
      "                     Cabinet       1.00      0.67      0.80        12\n",
      "\n",
      "                    accuracy                           0.90       271\n",
      "                   macro avg       0.84      0.86      0.84       271\n",
      "                weighted avg       0.90      0.90      0.89       271\n",
      "\n"
     ]
    },
    {
     "name": "stderr",
     "output_type": "stream",
     "text": [
      "c:\\Users\\Hoon\\Nextcloud3\\Projects\\AudioTrain\\.venv\\lib\\site-packages\\sklearn\\metrics\\_classification.py:1531: UndefinedMetricWarning: Precision is ill-defined and being set to 0.0 in labels with no predicted samples. Use `zero_division` parameter to control this behavior.\n",
      "  _warn_prf(average, modifier, f\"{metric.capitalize()} is\", len(result))\n",
      "c:\\Users\\Hoon\\Nextcloud3\\Projects\\AudioTrain\\.venv\\lib\\site-packages\\sklearn\\metrics\\_classification.py:1531: UndefinedMetricWarning: Precision is ill-defined and being set to 0.0 in labels with no predicted samples. Use `zero_division` parameter to control this behavior.\n",
      "  _warn_prf(average, modifier, f\"{metric.capitalize()} is\", len(result))\n",
      "c:\\Users\\Hoon\\Nextcloud3\\Projects\\AudioTrain\\.venv\\lib\\site-packages\\sklearn\\metrics\\_classification.py:1531: UndefinedMetricWarning: Precision is ill-defined and being set to 0.0 in labels with no predicted samples. Use `zero_division` parameter to control this behavior.\n",
      "  _warn_prf(average, modifier, f\"{metric.capitalize()} is\", len(result))\n"
     ]
    },
    {
     "data": {
      "image/png": "[encoded data removed]",
      "text/plain": [
       "<Figure size 1500x500 with 5 Axes>"
      ]
     },
     "metadata": {},
     "output_type": "display_data"
    }
   ],
   "source": [
    "trainer.evaluate(model, x_test, y_test, label)"
   ]
  },
  {
   "cell_type": "code",
   "execution_count": 10,
   "metadata": {},
   "outputs": [
    {
     "name": "stdout",
     "output_type": "stream",
     "text": [
      "INFO:tensorflow:Assets written to: C:\\Users\\Hoon\\AppData\\Local\\Temp\\tmphe10w9u_\\assets\n"
     ]
    },
    {
     "name": "stderr",
     "output_type": "stream",
     "text": [
      "INFO:tensorflow:Assets written to: C:\\Users\\Hoon\\AppData\\Local\\Temp\\tmphe10w9u_\\assets\n"
     ]
    },
    {
     "name": "stdout",
     "output_type": "stream",
     "text": [
      "Saved artifact at 'C:\\Users\\Hoon\\AppData\\Local\\Temp\\tmphe10w9u_'. The following endpoints are available:\n",
      "\n",
      "* Endpoint 'serve'\n",
      "  args_0 (POSITIONAL_ONLY): TensorSpec(shape=(None, 40, 1), dtype=tf.float32, name='keras_tensor')\n",
      "Output Type:\n",
      "  TensorSpec(shape=(None, 19), dtype=tf.float32, name=None)\n",
      "Captures:\n",
      "  2906618741504: TensorSpec(shape=(), dtype=tf.resource, name=None)\n",
      "  2906618746432: TensorSpec(shape=(), dtype=tf.resource, name=None)\n",
      "  2906618754704: TensorSpec(shape=(), dtype=tf.resource, name=None)\n",
      "  2909557428768: TensorSpec(shape=(), dtype=tf.resource, name=None)\n",
      "  2909557438624: TensorSpec(shape=(), dtype=tf.resource, name=None)\n",
      "  2909557436688: TensorSpec(shape=(), dtype=tf.resource, name=None)\n",
      "  2909557607056: TensorSpec(shape=(), dtype=tf.resource, name=None)\n",
      "  2909557607936: TensorSpec(shape=(), dtype=tf.resource, name=None)\n",
      "  2909557617792: TensorSpec(shape=(), dtype=tf.resource, name=None)\n",
      "  2909557899680: TensorSpec(shape=(), dtype=tf.resource, name=None)\n",
      "  2909557908128: TensorSpec(shape=(), dtype=tf.resource, name=None)\n",
      "  2909557909008: TensorSpec(shape=(), dtype=tf.resource, name=None)\n"
     ]
    }
   ],
   "source": [
    "import tensorflow as tf\n",
    "# Convert the model to TensorFlow Lite format\n",
    "converter = tf.lite.TFLiteConverter.from_keras_model(model)\n",
    "tflite_model = converter.convert()\n",
    "\n",
    "# Save the model to a .tflite file\n",
    "with open('model.tflite', 'wb') as f:\n",
    "    f.write(tflite_model)\n"
   ]
  },
  {
   "cell_type": "code",
   "execution_count": 11,
   "metadata": {},
   "outputs": [],
   "source": [
    "def predict_labels(x_test, model_path='model.tflite'):\n",
    "    # Load the TFLite model\n",
    "    interpreter = tf.lite.Interpreter(model_path=model_path)\n",
    "    interpreter.allocate_tensors()\n",
    "\n",
    "    # Get input and output tensors\n",
    "    input_details = interpreter.get_input_details()\n",
    "    output_details = interpreter.get_output_details()\n",
    "\n",
    "    # Prepare the input data\n",
    "    x_test_input = np.array([x_test.reshape(1, len(x_test), 1)], dtype=np.float32)\n",
    "    \n",
    "    # Set the tensor for the input\n",
    "    interpreter.set_tensor(input_details[0]['index'], x_test_input[0])\n",
    "\n",
    "    # Run the model\n",
    "    interpreter.invoke()\n",
    "\n",
    "    # Get the output tensor\n",
    "    output_data = interpreter.get_tensor(output_details[0]['index'])\n",
    "\n",
    "    # Process the output data\n",
    "    predicted_classes_tflite = np.argmax(output_data, axis=1)[0]\n",
    "    # Get the labels from the dataset\n",
    "    \n",
    "    return predicted_classes_tflite"
   ]
  },
  {
   "cell_type": "code",
   "execution_count": 12,
   "metadata": {},
   "outputs": [
    {
     "name": "stdout",
     "output_type": "stream",
     "text": [
      "Hospital Devices  !=  Pneumatic Tube\n",
      "drawers  !=  Cabinet\n",
      "Speech  !=  Rolling Carts\n",
      "curtains  !=  Composition\n",
      "medical air valve  !=  Sink/Water\n",
      "Hospital Devices  !=  Rolling Carts\n",
      "Speech  !=  Rolling Carts\n",
      "objects clanging (metal)  !=  Rolling Carts\n",
      "Hospital Devices  !=  Pneumatic Tube\n",
      "objects clanging (metal)  !=  Rolling Carts\n",
      "drawers  !=  Cabinet\n",
      "curtains  !=  Composition\n",
      "medical air valve  !=  Sink/Water\n",
      "Speech  !=  Composition\n",
      "drawers  !=  Cabinet\n",
      "medical air valve  !=  Sink/Water\n",
      "Speech  !=  Composition\n",
      "medical air valve  !=  Sink/Water\n",
      "HVAC  !=  Hospital Devices\n",
      "HVAC  !=  Hospital Devices\n",
      "medical air valve  !=  Sink/Water\n",
      "drawers  !=  Cabinet\n",
      "Rolling Carts  !=  drawers\n",
      "medical air valve  !=  Sink/Water\n",
      "Rolling Carts  !=  drawers\n",
      "medical air valve  !=  Sink/Water\n",
      "0.9040590405904059\n"
     ]
    }
   ],
   "source": [
    "t = len(x_test)\n",
    "for x, y in zip(x_test, y_test):\n",
    "    resx = label[predict_labels(x)]\n",
    "    resy = label[np.argmax(y)]\n",
    "    if resx != resy:\n",
    "        print(resx, ' != ' , resy)\n",
    "        t -=1\n",
    "\n",
    "print(t/len(x_test))\n",
    " \n",
    "\n",
    "# "
   ]
  },
  {
   "cell_type": "code",
   "execution_count": 13,
   "metadata": {},
   "outputs": [
    {
     "name": "stderr",
     "output_type": "stream",
     "text": [
      "WARNING:absl:You are saving your model as an HDF5 file via `model.save()` or `keras.saving.save_model(model)`. This file format is considered legacy. We recommend using instead the native Keras format, e.g. `model.save('my_model.keras')` or `keras.saving.save_model(model, 'my_model.keras')`. \n"
     ]
    }
   ],
   "source": [
    "model.save('model.h5')\n"
   ]
  },
  {
   "cell_type": "code",
   "execution_count": 14,
   "metadata": {},
   "outputs": [
    {
     "name": "stderr",
     "output_type": "stream",
     "text": [
      "WARNING:absl:Compiled the loaded model, but the compiled metrics have yet to be built. `model.compile_metrics` will be empty until you train or evaluate the model.\n"
     ]
    },
    {
     "name": "stdout",
     "output_type": "stream",
     "text": [
      "\u001b[1m9/9\u001b[0m \u001b[32m━━━━━━━━━━━━━━━━━━━━\u001b[0m\u001b[37m\u001b[0m \u001b[1m0s\u001b[0m 3ms/step - accuracy: 0.9081 - loss: 0.2670\n",
      "Test Loss: 0.25605320930480957, Test Accuracy: 0.9040590524673462\n",
      "\u001b[1m9/9\u001b[0m \u001b[32m━━━━━━━━━━━━━━━━━━━━\u001b[0m\u001b[37m\u001b[0m \u001b[1m0s\u001b[0m 9ms/step\n",
      "                              precision    recall  f1-score   support\n",
      "\n",
      "            Hospital Devices       0.62      0.71      0.67         7\n",
      "    objects clanging (metal)       0.88      1.00      0.93        14\n",
      "              Pneumatic Tube       1.00      0.60      0.75         5\n",
      "                   Room Call       1.00      1.00      1.00        10\n",
      "    Manual Resuscitation Bag       1.00      1.00      1.00         6\n",
      "objects clanging (non-metal)       1.00      1.00      1.00         6\n",
      "                    curtains       0.89      1.00      0.94        16\n",
      "                     drawers       0.73      0.85      0.79        13\n",
      "                 Composition       1.00      0.76      0.87        17\n",
      "                      Speech       0.64      1.00      0.78         7\n",
      "               Rolling Carts       0.98      0.95      0.97       104\n",
      "           medical air valve       0.74      1.00      0.85        20\n",
      "                   SpaceLAbs       1.00      1.00      1.00        17\n",
      "                   footsteps       1.00      1.00      1.00         1\n",
      "                        HVAC       0.60      1.00      0.75         3\n",
      "                  Sink/Water       0.00      0.00      0.00         7\n",
      "                       Lifts       1.00      1.00      1.00         6\n",
      "                     Cabinet       1.00      0.67      0.80        12\n",
      "\n",
      "                    accuracy                           0.90       271\n",
      "                   macro avg       0.84      0.86      0.84       271\n",
      "                weighted avg       0.90      0.90      0.89       271\n",
      "\n"
     ]
    },
    {
     "name": "stderr",
     "output_type": "stream",
     "text": [
      "c:\\Users\\Hoon\\Nextcloud3\\Projects\\AudioTrain\\.venv\\lib\\site-packages\\sklearn\\metrics\\_classification.py:1531: UndefinedMetricWarning: Precision is ill-defined and being set to 0.0 in labels with no predicted samples. Use `zero_division` parameter to control this behavior.\n",
      "  _warn_prf(average, modifier, f\"{metric.capitalize()} is\", len(result))\n",
      "c:\\Users\\Hoon\\Nextcloud3\\Projects\\AudioTrain\\.venv\\lib\\site-packages\\sklearn\\metrics\\_classification.py:1531: UndefinedMetricWarning: Precision is ill-defined and being set to 0.0 in labels with no predicted samples. Use `zero_division` parameter to control this behavior.\n",
      "  _warn_prf(average, modifier, f\"{metric.capitalize()} is\", len(result))\n",
      "c:\\Users\\Hoon\\Nextcloud3\\Projects\\AudioTrain\\.venv\\lib\\site-packages\\sklearn\\metrics\\_classification.py:1531: UndefinedMetricWarning: Precision is ill-defined and being set to 0.0 in labels with no predicted samples. Use `zero_division` parameter to control this behavior.\n",
      "  _warn_prf(average, modifier, f\"{metric.capitalize()} is\", len(result))\n"
     ]
    }
   ],
   "source": [
    "from keras.models import load_model\n",
    "\n",
    "# Load the model\n",
    "model = load_model('model.h5')\n",
    "\n",
    "# Evaluate the model on the test data\n",
    "loss, accuracy = model.evaluate(x_test, y_test, verbose=1)\n",
    "print(f\"Test Loss: {loss}, Test Accuracy: {accuracy}\")\n",
    "\n",
    "# Make predictions\n",
    "predictions = model.predict(x_test)\n",
    "predicted_classes = np.argmax(predictions, axis=1)\n",
    "true_classes = np.argmax(y_test, axis=1)\n",
    "\n",
    "# Generate a classification report\n",
    "from sklearn.metrics import classification_report\n",
    "report = classification_report(true_classes, predicted_classes, target_names=[label[i] for i in np.unique(true_classes)])\n",
    "print(report)\n"
   ]
  },
  {
   "cell_type": "code",
   "execution_count": null,
   "metadata": {},
   "outputs": [],
   "source": []
  }
 ],
 "metadata": {
  "kernelspec": {
   "display_name": ".venv",
   "language": "python",
   "name": "python3"
  },
  "language_info": {
   "codemirror_mode": {
    "name": "ipython",
    "version": 3
   },
   "file_extension": ".py",
   "mimetype": "text/x-python",
   "name": "python",
   "nbconvert_exporter": "python",
   "pygments_lexer": "ipython3",
   "version": "3.10.11"
  }
 },
 "nbformat": 4,
 "nbformat_minor": 2
}
