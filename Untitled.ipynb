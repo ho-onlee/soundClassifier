{
 "cells": [
  {
   "cell_type": "code",
   "execution_count": 1,
   "id": "9dce8715-4927-4ddf-908c-159c1bf219ac",
   "metadata": {},
   "outputs": [
    {
     "name": "stderr",
     "output_type": "stream",
     "text": [
      "2024-07-18 16:16:45.743170: I tensorflow/core/platform/cpu_feature_guard.cc:210] This TensorFlow binary is optimized to use available CPU instructions in performance-critical operations.\n",
      "To enable the following instructions: AVX2 FMA, in other operations, rebuild TensorFlow with the appropriate compiler flags.\n",
      "2024-07-18 16:16:47.342387: W tensorflow/compiler/tf2tensorrt/utils/py_utils.cc:38] TF-TRT Warning: Could not find TensorRT\n"
     ]
    },
    {
     "name": "stdout",
     "output_type": "stream",
     "text": [
      "Fully loaded\n",
      "trained_model3.h5\n"
     ]
    },
    {
     "name": "stderr",
     "output_type": "stream",
     "text": [
      "WARNING:absl:Compiled the loaded model, but the compiled metrics have yet to be built. `model.compile_metrics` will be empty until you train or evaluate the model.\n"
     ]
    },
    {
     "name": "stdout",
     "output_type": "stream",
     "text": [
      "[Errno 2] No such file or directory: 'label_list.pkl'\n"
     ]
    }
   ],
   "source": [
    "import warnings\n",
    "warnings.filterwarnings('ignore')\n",
    "import HOS_client\n",
    "import time, pickle, datetime\n",
    "import sounddevice as sd\n",
    "import numpy as np\n",
    "import keras\n",
    "import tensorflow as tf\n",
    "import librosa\n",
    "print(\"Fully loaded\")\n",
    "class analyzer:\n",
    "    def __init__(self, model_name:str, label_name:str='label_list.pkl'):\n",
    "        self.model = self.__load_model(model_name)\n",
    "        self.map = self.__load_map(label_name)\n",
    "        print(\"Analyser initialized\")\n",
    "        \n",
    "    def __load_model(self, fname:str):\n",
    "        print(fname)\n",
    "        model = tf.keras.models.load_model(fname)\n",
    "        model.load_weights(fname.split('.')[0]+'.weights.h5')\n",
    "        return model\n",
    "\n",
    "    def __load_map(self, fname:str):\n",
    "        with open(fname, 'rb') as f:\n",
    "            ret = pickle.loads(f.read())\n",
    "        return ret\n",
    "        \n",
    "    def predict(self, audiowave:np.array, sr:int=48000):\n",
    "        prediction = np.zeros((1, len(self.map)))\n",
    "        c = 0\n",
    "        for i in range(int(np.floor(len(audiowave)/(0.45*sr)))+1):\n",
    "            c+=1\n",
    "            start = int(i*(0.45*sr))\n",
    "            end = int(start+(0.92*sr))\n",
    "            audio_94 = audiowave[start:end]\n",
    "            # Extract MFCC features\n",
    "            mfccs = librosa.feature.mfcc(y=audio_94, sr=sr, n_mfcc=40)\n",
    "            mfcc_scaled = np.mean(mfccs.T, axis=2)\n",
    "            input_data = np.reshape(mfcc_scaled, (1, 40))\n",
    "            prediction += self.model(input_data)\n",
    "        return prediction.numpy()/c\n",
    "\n",
    "\n",
    "def callback(indata, outdata, frames, time, status):\n",
    "    raw_pred = anal.predict(indata)\n",
    "    prediction = str(anal.map[np.argmax(raw_pred)])\n",
    "    now = datetime.datetime.now()\n",
    "    t = str(now.strftime('%a, %d %b %Y %H:%M:%S:%f'))\n",
    "    print(f\"[{t}] Prediction: {prediction}\")\n",
    "    with open('data_device1.csv','a+', newline='') as f:\n",
    "        f.write(f\"{t}, {prediction}, {raw_pred}\\n\")\n",
    "    ret = node.postMessage([str(t), str(raw_pred), str(prediction)])\n",
    "    print(ret)\n",
    "def main():\n",
    "    try:\n",
    "        with sd.Stream(device=(1, 0),\n",
    "                    samplerate=48000, blocksize=int(48000*0.5),\n",
    "                    channels=1, callback=callback) as f:\n",
    "            print('#' * 80)\n",
    "            print('press Return to quit')\n",
    "            print('#' * 80)\n",
    "            input()\n",
    "            \n",
    "    except Exception as e:\n",
    "        print(e)\n",
    "\n",
    "\n",
    "\n",
    "if __name__ == '__main__':\n",
    "    try:        \n",
    "        anal = analyzer('trained_model3.h5')\n",
    "        node = HOS_client.node(client=HOS_client.client('device2', client_privilege=3),\n",
    "                               node_name=\"device1_last_test\", \n",
    "                               keys=['recorded_time', 'prediction_raw', 'prediction_max'],\n",
    "                               host='seonhunlee.me')\n",
    "        main()\n",
    "    except Exception as e:\n",
    "        print(e)\n",
    "        exit()\n"
   ]
  }
 ],
 "metadata": {
  "kernelspec": {
   "display_name": "Python 3 (ipykernel)",
   "language": "python",
   "name": "python3"
  },
  "language_info": {
   "codemirror_mode": {
    "name": "ipython",
    "version": 3
   },
   "file_extension": ".py",
   "mimetype": "text/x-python",
   "name": "python",
   "nbconvert_exporter": "python",
   "pygments_lexer": "ipython3",
   "version": "3.10.12"
  }
 },
 "nbformat": 4,
 "nbformat_minor": 5
}
